{
 "cells": [
  {
   "cell_type": "code",
   "execution_count": 95,
   "id": "5699b80a",
   "metadata": {},
   "outputs": [
    {
     "name": "stdout",
     "output_type": "stream",
     "text": [
      "Tue Jun 11 10:15:46 2024       \n",
      "+---------------------------------------------------------------------------------------+\n",
      "| NVIDIA-SMI 535.146.02             Driver Version: 535.146.02   CUDA Version: 12.2     |\n",
      "|-----------------------------------------+----------------------+----------------------+\n",
      "| GPU  Name                 Persistence-M | Bus-Id        Disp.A | Volatile Uncorr. ECC |\n",
      "| Fan  Temp   Perf          Pwr:Usage/Cap |         Memory-Usage | GPU-Util  Compute M. |\n",
      "|                                         |                      |               MIG M. |\n",
      "|=========================================+======================+======================|\n",
      "|   0  NVIDIA GeForce RTX 2080 ...    Off | 00000000:03:00.0 Off |                  N/A |\n",
      "| 27%   32C    P8               1W / 250W |      1MiB /  8192MiB |      0%      Default |\n",
      "|                                         |                      |                  N/A |\n",
      "+-----------------------------------------+----------------------+----------------------+\n",
      "|   1  NVIDIA GeForce RTX 2080 ...    Off | 00000000:0E:00.0 Off |                  N/A |\n",
      "| 27%   37C    P8               6W / 250W |      1MiB /  8192MiB |      0%      Default |\n",
      "|                                         |                      |                  N/A |\n",
      "+-----------------------------------------+----------------------+----------------------+\n",
      "|   2  NVIDIA GeForce RTX 2080 ...    Off | 00000000:0F:00.0 Off |                  N/A |\n",
      "| 27%   35C    P8              19W / 250W |   6937MiB /  8192MiB |      0%      Default |\n",
      "|                                         |                      |                  N/A |\n",
      "+-----------------------------------------+----------------------+----------------------+\n",
      "                                                                                         \n",
      "+---------------------------------------------------------------------------------------+\n",
      "| Processes:                                                                            |\n",
      "|  GPU   GI   CI        PID   Type   Process name                            GPU Memory |\n",
      "|        ID   ID                                                             Usage      |\n",
      "|=======================================================================================|\n",
      "+---------------------------------------------------------------------------------------+\n"
     ]
    }
   ],
   "source": [
    "!nvidia-smi"
   ]
  },
  {
   "cell_type": "code",
   "execution_count": 96,
   "id": "83b49b17",
   "metadata": {},
   "outputs": [],
   "source": [
    "import os\n",
    "# Assign GPU number\n",
    "os.environ[\"CUDA_VISIBLE_DEVICES\"]=\"2\""
   ]
  },
  {
   "cell_type": "code",
   "execution_count": null,
   "id": "35a47bdd",
   "metadata": {},
   "outputs": [],
   "source": []
  },
  {
   "cell_type": "code",
   "execution_count": 97,
   "id": "9630de74",
   "metadata": {
    "scrolled": false
   },
   "outputs": [],
   "source": [
    "import json\n",
    "import os\n",
    "import pandas as pd\n",
    "import tensorflow as tf\n",
    "from sklearn.model_selection import train_test_split\n",
    "from tensorflow.keras.models import Model, load_model\n",
    "from tensorflow.keras.layers import Input, LSTM, Dense, Dropout\n",
    "import numpy as np"
   ]
  },
  {
   "cell_type": "code",
   "execution_count": 98,
   "id": "519773c7",
   "metadata": {},
   "outputs": [],
   "source": [
    "def load_json(file_path):\n",
    "    with open(file_path, 'r') as f:\n",
    "        try:\n",
    "            data = json.load(f)\n",
    "        except json.JSONDecodeError:\n",
    "            data = []\n",
    "            f.seek(0)\n",
    "            for line in f:\n",
    "                try:\n",
    "                    data.append(json.loads(line))\n",
    "                except json.JSONDecodeError as e:\n",
    "                    print(f\"Error decoding JSON in line: {line}\\nError: {e}\")\n",
    "    return data"
   ]
  },
  {
   "cell_type": "code",
   "execution_count": 99,
   "id": "8d7a97aa",
   "metadata": {},
   "outputs": [],
   "source": [
    "train_file_path = 'hin_train.json'"
   ]
  },
  {
   "cell_type": "code",
   "execution_count": 100,
   "id": "b7431395",
   "metadata": {},
   "outputs": [
    {
     "name": "stdout",
     "output_type": "stream",
     "text": [
      "Train Data Loaded:\n",
      "Number of records: 1299155\n",
      "First record: {'unique_identifier': 'hin1', 'native word': 'जन्मदिवस', 'english word': 'janamdivas', 'source': 'Dakshina', 'score': None}\n"
     ]
    }
   ],
   "source": [
    "if os.path.exists(train_file_path):\n",
    "    \n",
    "    train_data = load_json(train_file_path)\n",
    "\n",
    "    def print_summary(data, name):\n",
    "        print(f\"{name} Data Loaded:\")\n",
    "        print(f\"Number of records: {len(data)}\")\n",
    "        if isinstance(data, list) and len(data) > 0:\n",
    "            print(\"First record:\", data[0])\n",
    "        elif isinstance(data, dict):\n",
    "            print(\"Keys:\", list(data.keys()))\n",
    "\n",
    "    print_summary(train_data, \"Train\")"
   ]
  },
  {
   "cell_type": "code",
   "execution_count": 101,
   "id": "363bed9b",
   "metadata": {},
   "outputs": [],
   "source": [
    "keys_to_keep = ['native word', 'english word']\n",
    "\n",
    "def filter_keys(data, keys_to_keep):\n",
    "    filtered_data = [{key: item[key] for key in keys_to_keep if key in item} for item in data]\n",
    "    return filtered_data\n",
    "\n",
    "# def print_sample(data, name, sample_size=5):\n",
    "#     print(f\"Filtered {name} Data Sample:\")\n",
    "#     for item in data[:sample_size]:\n",
    "#         print(item)\n",
    "\n",
    "train_data_filtered = filter_keys(train_data, keys_to_keep)\n",
    "train = list(train_data_filtered)\n",
    "\n",
    "# print_sample(train, \"Train\")"
   ]
  },
  {
   "cell_type": "code",
   "execution_count": 102,
   "id": "3b0ed9c3",
   "metadata": {},
   "outputs": [
    {
     "data": {
      "text/html": [
       "<div>\n",
       "<style scoped>\n",
       "    .dataframe tbody tr th:only-of-type {\n",
       "        vertical-align: middle;\n",
       "    }\n",
       "\n",
       "    .dataframe tbody tr th {\n",
       "        vertical-align: top;\n",
       "    }\n",
       "\n",
       "    .dataframe thead th {\n",
       "        text-align: right;\n",
       "    }\n",
       "</style>\n",
       "<table border=\"1\" class=\"dataframe\">\n",
       "  <thead>\n",
       "    <tr style=\"text-align: right;\">\n",
       "      <th></th>\n",
       "      <th>hindi</th>\n",
       "      <th>english</th>\n",
       "    </tr>\n",
       "  </thead>\n",
       "  <tbody>\n",
       "    <tr>\n",
       "      <th>0</th>\n",
       "      <td>जन्मदिवस</td>\n",
       "      <td>janamdivas</td>\n",
       "    </tr>\n",
       "    <tr>\n",
       "      <th>1</th>\n",
       "      <td>रक्खा</td>\n",
       "      <td>rakha</td>\n",
       "    </tr>\n",
       "    <tr>\n",
       "      <th>2</th>\n",
       "      <td>मिलीजुली</td>\n",
       "      <td>milijuli</td>\n",
       "    </tr>\n",
       "    <tr>\n",
       "      <th>3</th>\n",
       "      <td>जांचों</td>\n",
       "      <td>jaanchon</td>\n",
       "    </tr>\n",
       "    <tr>\n",
       "      <th>4</th>\n",
       "      <td>चमकता</td>\n",
       "      <td>chamkata</td>\n",
       "    </tr>\n",
       "  </tbody>\n",
       "</table>\n",
       "</div>"
      ],
      "text/plain": [
       "      hindi     english\n",
       "0  जन्मदिवस  janamdivas\n",
       "1     रक्खा       rakha\n",
       "2  मिलीजुली    milijuli\n",
       "3    जांचों    jaanchon\n",
       "4     चमकता    chamkata"
      ]
     },
     "execution_count": 102,
     "metadata": {},
     "output_type": "execute_result"
    }
   ],
   "source": [
    "train = pd.DataFrame(train)\n",
    "\n",
    "train.rename(columns={'native word': 'hindi', 'english word': 'english'}, inplace=True)\n",
    "train.head()"
   ]
  },
  {
   "cell_type": "code",
   "execution_count": 103,
   "id": "add21793",
   "metadata": {},
   "outputs": [
    {
     "data": {
      "text/plain": [
       "(1299155, 2)"
      ]
     },
     "execution_count": 103,
     "metadata": {},
     "output_type": "execute_result"
    }
   ],
   "source": [
    "train.shape"
   ]
  },
  {
   "cell_type": "code",
   "execution_count": 104,
   "id": "b63c81cc",
   "metadata": {},
   "outputs": [],
   "source": [
    "train['hindi'] = train['hindi'].astype(str)\n",
    "train['english'] = train['english'].astype(str)\n",
    "\n",
    "train['hindi'] = train['hindi'].str.strip()\n",
    "train['english'] = train['english'].str.strip().str.lower()\n",
    "\n",
    "train = train[~train['english'].str.contains('\\.')]\n",
    "train = train[~train['english'].str.contains(',')]"
   ]
  },
  {
   "cell_type": "code",
   "execution_count": 105,
   "id": "77bf7b2a",
   "metadata": {},
   "outputs": [
    {
     "name": "stdout",
     "output_type": "stream",
     "text": [
      "        hindi       english\n",
      "0  ^जन्मदिवस$  ^janamdivas$\n",
      "1     ^रक्खा$       ^rakha$\n",
      "2  ^मिलीजुली$    ^milijuli$\n",
      "3    ^जांचों$    ^jaanchon$\n",
      "4     ^चमकता$    ^chamkata$\n"
     ]
    }
   ],
   "source": [
    "def isEnglish(s):\n",
    "    try:\n",
    "        s.encode(encoding='utf-8').decode('ascii')\n",
    "    except UnicodeDecodeError:\n",
    "        return False\n",
    "    else:\n",
    "        return True\n",
    "\n",
    "train = train[train['english'].apply(isEnglish)]\n",
    "\n",
    "sos = '^'\n",
    "eos = '$'\n",
    "train['english'] = sos + train['english'].astype(str) + eos\n",
    "train['hindi'] = sos + train['hindi'].astype(str) + eos\n",
    "\n",
    "print(train.head())"
   ]
  },
  {
   "cell_type": "code",
   "execution_count": 106,
   "id": "37c7db91",
   "metadata": {},
   "outputs": [
    {
     "name": "stdout",
     "output_type": "stream",
     "text": [
      "english text shape : (1299155,)\n",
      "^janamdivas$\n",
      "hindi text shape : (1299155,)\n",
      "^जन्मदिवस$\n"
     ]
    }
   ],
   "source": [
    "english_text = train['english']\n",
    "hindi_text = train['hindi']\n",
    "\n",
    "print('english text shape :', english_text.shape)\n",
    "print(english_text[0])\n",
    "print('hindi text shape :', hindi_text.shape)\n",
    "print(hindi_text[0])"
   ]
  },
  {
   "cell_type": "code",
   "execution_count": 107,
   "id": "0cf83b49",
   "metadata": {
    "scrolled": true
   },
   "outputs": [],
   "source": [
    "train_english_text, val_english_text, train_hindi_text, val_hindi_text = train_test_split(english_text, hindi_text, test_size=0.2, random_state=42)"
   ]
  },
  {
   "cell_type": "code",
   "execution_count": 108,
   "id": "2f3fc3d8",
   "metadata": {},
   "outputs": [
    {
     "name": "stdout",
     "output_type": "stream",
     "text": [
      "34\n",
      "30\n"
     ]
    }
   ],
   "source": [
    "# Calculate max input and target lengths\n",
    "max_input_len = max([len(text) for text in english_text])\n",
    "print(max_input_len)\n",
    "max_target_len = max([len(text) for text in hindi_text])\n",
    "print(max_target_len)"
   ]
  },
  {
   "cell_type": "code",
   "execution_count": 109,
   "id": "01cbd1a0",
   "metadata": {},
   "outputs": [
    {
     "name": "stdout",
     "output_type": "stream",
     "text": [
      "['$', '^', 'a', 'b', 'c', 'd', 'e', 'f', 'g', 'h', 'i', 'j', 'k', 'l', 'm', 'n', 'o', 'p', 'q', 'r', 's', 't', 'u', 'v', 'w', 'x', 'y', 'z']\n",
      "['$', '^', 'ँ', 'ं', 'ः', 'अ', 'आ', 'इ', 'ई', 'उ', 'ऊ', 'ऋ', 'ऍ', 'ए', 'ऐ', 'ऑ', 'ओ', 'औ', 'क', 'ख', 'ग', 'घ', 'ङ', 'च', 'छ', 'ज', 'झ', 'ञ', 'ट', 'ठ', 'ड', 'ढ', 'ण', 'त', 'थ', 'द', 'ध', 'न', 'प', 'फ', 'ब', 'भ', 'म', 'य', 'र', 'ल', 'ळ', 'व', 'श', 'ष', 'स', 'ह', '़', 'ऽ', 'ा', 'ि', 'ी', 'ु', 'ू', 'ृ', 'ॅ', 'े', 'ै', 'ॉ', 'ॊ', 'ो', 'ौ', '्', 'ॐ', 'ॠ', '॥']\n",
      "28\n",
      "71\n"
     ]
    }
   ],
   "source": [
    "input_chars = sorted(list(set(''.join(english_text))))\n",
    "print(input_chars)\n",
    "target_chars = sorted(list(set(''.join(hindi_text))))\n",
    "print(target_chars)\n",
    "\n",
    "num_encoder_tokens = len(input_chars)\n",
    "print(num_encoder_tokens)\n",
    "num_decoder_tokens = len(target_chars)\n",
    "print(num_decoder_tokens)"
   ]
  },
  {
   "cell_type": "code",
   "execution_count": 110,
   "id": "d73f0cdd",
   "metadata": {},
   "outputs": [
    {
     "name": "stdout",
     "output_type": "stream",
     "text": [
      "{'$': 0, '^': 1, 'a': 2, 'b': 3, 'c': 4, 'd': 5, 'e': 6, 'f': 7, 'g': 8, 'h': 9, 'i': 10, 'j': 11, 'k': 12, 'l': 13, 'm': 14, 'n': 15, 'o': 16, 'p': 17, 'q': 18, 'r': 19, 's': 20, 't': 21, 'u': 22, 'v': 23, 'w': 24, 'x': 25, 'y': 26, 'z': 27}\n",
      "{'$': 0, '^': 1, 'ँ': 2, 'ं': 3, 'ः': 4, 'अ': 5, 'आ': 6, 'इ': 7, 'ई': 8, 'उ': 9, 'ऊ': 10, 'ऋ': 11, 'ऍ': 12, 'ए': 13, 'ऐ': 14, 'ऑ': 15, 'ओ': 16, 'औ': 17, 'क': 18, 'ख': 19, 'ग': 20, 'घ': 21, 'ङ': 22, 'च': 23, 'छ': 24, 'ज': 25, 'झ': 26, 'ञ': 27, 'ट': 28, 'ठ': 29, 'ड': 30, 'ढ': 31, 'ण': 32, 'त': 33, 'थ': 34, 'द': 35, 'ध': 36, 'न': 37, 'प': 38, 'फ': 39, 'ब': 40, 'भ': 41, 'म': 42, 'य': 43, 'र': 44, 'ल': 45, 'ळ': 46, 'व': 47, 'श': 48, 'ष': 49, 'स': 50, 'ह': 51, '़': 52, 'ऽ': 53, 'ा': 54, 'ि': 55, 'ी': 56, 'ु': 57, 'ू': 58, 'ृ': 59, 'ॅ': 60, 'े': 61, 'ै': 62, 'ॉ': 63, 'ॊ': 64, 'ो': 65, 'ौ': 66, '्': 67, 'ॐ': 68, 'ॠ': 69, '॥': 70}\n"
     ]
    }
   ],
   "source": [
    "input_char_index = dict((char, i) for i, char in enumerate(input_chars))\n",
    "print(input_char_index)\n",
    "target_char_index = dict((char, i) for i, char in enumerate(target_chars))\n",
    "print(target_char_index)"
   ]
  },
  {
   "cell_type": "code",
   "execution_count": 111,
   "id": "eee203b8",
   "metadata": {},
   "outputs": [],
   "source": [
    "encoder_input_data = np.zeros((len(train_english_text), max_input_len, num_encoder_tokens), dtype='float32')\n",
    "decoder_input_data = np.zeros((len(train_hindi_text), max_target_len, num_decoder_tokens), dtype='float32')\n",
    "decoder_target_data = np.zeros((len(train_hindi_text), max_target_len, num_decoder_tokens), dtype='float32')\n",
    "\n",
    "for i, (input_text, target_text) in enumerate(zip(train_english_text, train_hindi_text)):\n",
    "    for t, char in enumerate(input_text):\n",
    "        encoder_input_data[i, t, input_char_index[char]] = 1\n",
    "    for t, char in enumerate(target_text):\n",
    "        decoder_input_data[i, t, target_char_index[char]] = 1\n",
    "        if t > 0:\n",
    "            decoder_target_data[i, t - 1, target_char_index[char]] = 1"
   ]
  },
  {
   "cell_type": "code",
   "execution_count": 112,
   "id": "3561f435",
   "metadata": {},
   "outputs": [],
   "source": [
    "def custom_accuracy(y_true, y_pred):\n",
    "    y_true_argmax = tf.argmax(y_true, axis=-1)\n",
    "    y_pred_argmax = tf.argmax(y_pred, axis=-1)\n",
    "    mask = tf.cast(tf.not_equal(y_true_argmax, 0), dtype=tf.float32)\n",
    "    matches = tf.cast(tf.equal(y_true_argmax, y_pred_argmax), dtype=tf.float32)\n",
    "    masked_matches = matches * mask\n",
    "    accuracy = tf.reduce_sum(masked_matches) / tf.reduce_sum(mask)\n",
    "    return accuracy\n",
    "\n",
    "def custom_loss(y_true, y_pred):\n",
    "    mask = tf.cast(tf.not_equal(tf.reduce_sum(y_true, axis=-1), 0), dtype=tf.float32)\n",
    "    loss = tf.keras.losses.categorical_crossentropy(y_true, y_pred)\n",
    "    masked_loss = loss * mask\n",
    "    return tf.reduce_sum(masked_loss) / tf.reduce_sum(mask)\n"
   ]
  },
  {
   "cell_type": "code",
   "execution_count": 113,
   "id": "91b81a39",
   "metadata": {
    "scrolled": true
   },
   "outputs": [
    {
     "name": "stdout",
     "output_type": "stream",
     "text": [
      "WARNING:tensorflow:Layer lstm will not use cuDNN kernels since it doesn't meet the criteria. It will use a generic GPU kernel as fallback when running on GPU.\n"
     ]
    },
    {
     "name": "stderr",
     "output_type": "stream",
     "text": [
      "WARNING:tensorflow:Layer lstm will not use cuDNN kernels since it doesn't meet the criteria. It will use a generic GPU kernel as fallback when running on GPU.\n"
     ]
    },
    {
     "name": "stdout",
     "output_type": "stream",
     "text": [
      "WARNING:tensorflow:Layer lstm_1 will not use cuDNN kernels since it doesn't meet the criteria. It will use a generic GPU kernel as fallback when running on GPU.\n"
     ]
    },
    {
     "name": "stderr",
     "output_type": "stream",
     "text": [
      "WARNING:tensorflow:Layer lstm_1 will not use cuDNN kernels since it doesn't meet the criteria. It will use a generic GPU kernel as fallback when running on GPU.\n"
     ]
    }
   ],
   "source": [
    "model = load_model('D1engHin_model.h5', custom_objects={'custom_loss': custom_loss, 'custom_accuracy':custom_accuracy})\n"
   ]
  },
  {
   "cell_type": "code",
   "execution_count": 114,
   "id": "361199e6",
   "metadata": {},
   "outputs": [
    {
     "name": "stdout",
     "output_type": "stream",
     "text": [
      "WARNING:tensorflow:Layer lstm_4 will not use cuDNN kernels since it doesn't meet the criteria. It will use a generic GPU kernel as fallback when running on GPU.\n"
     ]
    },
    {
     "name": "stderr",
     "output_type": "stream",
     "text": [
      "WARNING:tensorflow:Layer lstm_4 will not use cuDNN kernels since it doesn't meet the criteria. It will use a generic GPU kernel as fallback when running on GPU.\n"
     ]
    },
    {
     "name": "stdout",
     "output_type": "stream",
     "text": [
      "WARNING:tensorflow:Layer lstm_5 will not use cuDNN kernels since it doesn't meet the criteria. It will use a generic GPU kernel as fallback when running on GPU.\n"
     ]
    },
    {
     "name": "stderr",
     "output_type": "stream",
     "text": [
      "WARNING:tensorflow:Layer lstm_5 will not use cuDNN kernels since it doesn't meet the criteria. It will use a generic GPU kernel as fallback when running on GPU.\n"
     ]
    },
    {
     "name": "stdout",
     "output_type": "stream",
     "text": [
      "Model: \"model_6\"\n",
      "__________________________________________________________________________________________________\n",
      "Layer (type)                    Output Shape         Param #     Connected to                     \n",
      "==================================================================================================\n",
      "input_9 (InputLayer)            [(None, None, 28)]   0                                            \n",
      "__________________________________________________________________________________________________\n",
      "input_10 (InputLayer)           [(None, None, 71)]   0                                            \n",
      "__________________________________________________________________________________________________\n",
      "lstm_4 (LSTM)                   [(None, 256), (None, 291840      input_9[0][0]                    \n",
      "__________________________________________________________________________________________________\n",
      "lstm_5 (LSTM)                   [(None, None, 256),  335872      input_10[0][0]                   \n",
      "                                                                 lstm_4[0][1]                     \n",
      "                                                                 lstm_4[0][2]                     \n",
      "__________________________________________________________________________________________________\n",
      "dense_2 (Dense)                 (None, None, 71)     18247       lstm_5[0][0]                     \n",
      "==================================================================================================\n",
      "Total params: 645,959\n",
      "Trainable params: 645,959\n",
      "Non-trainable params: 0\n",
      "__________________________________________________________________________________________________\n"
     ]
    }
   ],
   "source": [
    "# Build the model\n",
    "encoder_inputs = Input(shape=(None, num_encoder_tokens))\n",
    "encoder = LSTM(256, return_state=True, dropout=0.3, recurrent_dropout=0.3)\n",
    "encoder_outputs, state_h, state_c = encoder(encoder_inputs)\n",
    "encoder_states = [state_h, state_c]\n",
    "\n",
    "decoder_inputs = Input(shape=(None, num_decoder_tokens))\n",
    "decoder_lstm = LSTM(256, return_sequences=True, return_state=True, dropout=0.3, recurrent_dropout=0.3)\n",
    "decoder_outputs, _, _ = decoder_lstm(decoder_inputs, initial_state=encoder_states)\n",
    "decoder_dense = Dense(num_decoder_tokens, activation='softmax')\n",
    "decoder_outputs = decoder_dense(decoder_outputs)\n",
    "\n",
    "model = Model([encoder_inputs, decoder_inputs], decoder_outputs)\n",
    "model.compile(optimizer=tf.keras.optimizers.Adam(learning_rate=0.001), loss=custom_loss, metrics=[custom_accuracy])\n",
    "\n",
    "model.summary()"
   ]
  },
  {
   "cell_type": "code",
   "execution_count": 115,
   "id": "3d42d0b7",
   "metadata": {
    "scrolled": true
   },
   "outputs": [],
   "source": [
    "# history = model.fit([encoder_input_data, decoder_input_data], decoder_target_data,\n",
    "#           batch_size=128,\n",
    "#           epochs=50,\n",
    "#           validation_split=0.2)"
   ]
  },
  {
   "cell_type": "code",
   "execution_count": 116,
   "id": "4990f006",
   "metadata": {},
   "outputs": [],
   "source": [
    "model.load_weights('D1engHin_model.h5')"
   ]
  },
  {
   "cell_type": "code",
   "execution_count": 117,
   "id": "a85f4c07",
   "metadata": {},
   "outputs": [],
   "source": [
    "# import tensorflow as tf\n",
    "\n",
    "# #load h5 module\n",
    "# model=tf.keras.models.load_model('D1engHin_model.h5', custom_objects={'custom_loss': custom_loss, 'custom_accuracy':custom_accuracy})\n",
    "# tflite_converter = tf.lite.TFLiteConverter.from_keras_model(model)\n",
    "\n",
    "# #convert\n",
    "# tflite_model = tflite_converter.convert()\n",
    "# open(\"D1engHin_model.tflite\", \"wb\").write(tflite_model)"
   ]
  },
  {
   "cell_type": "code",
   "execution_count": 118,
   "id": "0083e944",
   "metadata": {},
   "outputs": [],
   "source": [
    "val_encoder_input_data = np.zeros((len(val_english_text), max_input_len, num_encoder_tokens), dtype='float32')\n",
    "val_decoder_input_data = np.zeros((len(val_hindi_text), max_target_len, num_decoder_tokens), dtype='float32')\n",
    "val_decoder_target_data = np.zeros((len(val_hindi_text), max_target_len, num_decoder_tokens), dtype='float32')\n",
    "\n",
    "for i, (input_text, target_text) in enumerate(zip(val_english_text, val_hindi_text)):\n",
    "    for t, char in enumerate(input_text):\n",
    "        val_encoder_input_data[i, t, input_char_index[char]] = 1\n",
    "    for t, char in enumerate(target_text):\n",
    "        val_decoder_input_data[i, t, target_char_index[char]] = 1\n",
    "        if t > 0:\n",
    "            val_decoder_target_data[i, t - 1, target_char_index[char]] = 1"
   ]
  },
  {
   "cell_type": "code",
   "execution_count": 119,
   "id": "2cf0a312",
   "metadata": {},
   "outputs": [
    {
     "name": "stdout",
     "output_type": "stream",
     "text": [
      "8120/8120 [==============================] - 174s 21ms/step - loss: 0.2661 - custom_accuracy: 0.9023\n",
      "Val loss: 0.26612356305122375\n",
      "Val accuracy: 0.9022973775863647\n"
     ]
    }
   ],
   "source": [
    "scores = model.evaluate([val_encoder_input_data, val_decoder_input_data], val_decoder_target_data, verbose=1)\n",
    "print('Val loss:', scores[0])\n",
    "print('Val accuracy:', scores[1])"
   ]
  },
  {
   "cell_type": "code",
   "execution_count": 120,
   "id": "3b9f3dfb",
   "metadata": {},
   "outputs": [],
   "source": [
    "encoder_model = Model(encoder_inputs, encoder_states)\n",
    "\n",
    "decoder_state_input_h = Input(shape=(256,))\n",
    "decoder_state_input_c = Input(shape=(256,))\n",
    "decoder_states_inputs = [decoder_state_input_h, decoder_state_input_c]\n",
    "decoder_outputs, state_h, state_c = decoder_lstm(decoder_inputs, initial_state=decoder_states_inputs)\n",
    "decoder_states = [state_h, state_c]\n",
    "decoder_outputs = decoder_dense(decoder_outputs)\n",
    "decoder_model = Model([decoder_inputs] + decoder_states_inputs, [decoder_outputs] + decoder_states)"
   ]
  },
  {
   "cell_type": "code",
   "execution_count": 121,
   "id": "b190955e",
   "metadata": {},
   "outputs": [],
   "source": [
    "import numpy as np\n",
    "import time\n",
    "\n",
    "def beam_search_decode(input_seq, beam_width=2):\n",
    "    states_value = encoder_model.predict(input_seq)\n",
    "    \n",
    "    start_token_index = target_char_index['^']\n",
    "    end_token_index = target_char_index['$']\n",
    "    sequences = [[list(), 0.0, states_value]]  # list of [sequence, score, states]\n",
    "    \n",
    "    for _ in range(max_target_len):\n",
    "        all_candidates = []\n",
    "        for seq, score, states in sequences:\n",
    "            target_seq = np.zeros((1, 1, num_decoder_tokens))\n",
    "            if len(seq) > 0:\n",
    "                last_token_index = seq[-1]\n",
    "            else:\n",
    "                last_token_index = start_token_index\n",
    "            target_seq[0, 0, last_token_index] = 1.0\n",
    "            \n",
    "            output_tokens, h, c = decoder_model.predict([target_seq] + states)\n",
    "            states_value = [h, c]\n",
    "            \n",
    "            top_k_indices = np.argsort(output_tokens[0, -1, :])[-beam_width:]\n",
    "            for token_index in top_k_indices:\n",
    "                candidate = [seq + [token_index], score - np.log(output_tokens[0, -1, token_index] + 1e-10), states_value]\n",
    "                all_candidates.append(candidate)\n",
    "        \n",
    "        ordered = sorted(all_candidates, key=lambda tup: tup[1])\n",
    "        sequences = ordered[:beam_width]\n",
    "    \n",
    "    # Convert all top sequences to decoded sentences and calculate their probabilities\n",
    "    decoded_sentences = []\n",
    "    for seq, score, _ in sequences:\n",
    "        decoded_sentence = ''.join([target_chars[idx] for idx in seq])\n",
    "        if decoded_sentence.endswith('$'):\n",
    "            decoded_sentence = decoded_sentence.split('$', 1)[0]  # Stop at first end token\n",
    "        probability = np.exp(-score)  # Convert negative log probability back to probability\n",
    "        \n",
    "        decoded_sentences.append((decoded_sentence, f'{probability:.4f}'))\n",
    "    \n",
    "    return decoded_sentences\n"
   ]
  },
  {
   "cell_type": "code",
   "execution_count": 133,
   "id": "6b2220f9",
   "metadata": {},
   "outputs": [],
   "source": [
    "def predict_output(input_text, beam_width=2):\n",
    "    total_latency = 0\n",
    "    word_count = 0\n",
    "    results = []\n",
    "    final_sentence = []\n",
    "    words = input_text.split(' ')\n",
    "    for word in words:\n",
    "        # Add start and end symbols to the input word\n",
    "        word = '^' + word.lower() + '$'\n",
    "        \n",
    "        input_seq = np.zeros((1, max_input_len, len(input_chars)), dtype='float32')\n",
    "        for t, char in enumerate(word):\n",
    "            if char in input_char_index:\n",
    "                input_seq[0, t, input_char_index[char]] = 1\n",
    "        \n",
    "        start_time = time.time()  # Start measuring time for the current word\n",
    "        decoded_sentences = beam_search_decode(input_seq, beam_width)\n",
    "        end_time = time.time()  # End measuring time for the current word\n",
    "        latency = end_time - start_time\n",
    "\n",
    "        results.append(decoded_sentences)  # Collect all beam search results\n",
    "        total_latency += latency\n",
    "        word_count += 1\n",
    "\n",
    "        # Select the highest probability transliteration\n",
    "        best_transliteration = max(decoded_sentences, key=lambda x: float(x[1]))\n",
    "        final_sentence.append(best_transliteration[0])\n",
    "    \n",
    "    # Join the final sentence words\n",
    "    final_sentence_str = ' '.join(final_sentence)\n",
    "    \n",
    "    average_latency = total_latency / word_count if word_count > 0 else 0\n",
    "    print(f'Average latency: {average_latency:.4f} seconds')\n",
    "    \n",
    "    return final_sentence_str, results\n"
   ]
  },
  {
   "cell_type": "code",
   "execution_count": 134,
   "id": "141a94f9",
   "metadata": {},
   "outputs": [
    {
     "name": "stdout",
     "output_type": "stream",
     "text": [
      "English text: Shubhkamna\n",
      "Average latency: 1.4573 seconds\n",
      "Transliterated Hindi text: ('शुभकामना', [[('शुभकामना', '0.2648'), ('शुभकम्न', '0.1149')]])\n"
     ]
    }
   ],
   "source": [
    "text = 'Shubhkamna'\n",
    "print('English text:',text)\n",
    "print('Transliterated Hindi text:',predict_output(text))"
   ]
  },
  {
   "cell_type": "code",
   "execution_count": 124,
   "id": "dc3b1c34",
   "metadata": {
    "scrolled": true
   },
   "outputs": [
    {
     "name": "stdout",
     "output_type": "stream",
     "text": [
      "English text: Rishabh\n",
      "Average latency: 1.3863 seconds\n",
      "Transliterated Hindi text: ('ऋषभ', [[('ऋषभ', '0.4465'), ('रिशभ', '0.0413')]])\n"
     ]
    }
   ],
   "source": [
    "text = 'Rishabh'\n",
    "print('English text:',text)\n",
    "print('Transliterated Hindi text:',predict_output(text))"
   ]
  },
  {
   "cell_type": "code",
   "execution_count": 125,
   "id": "493e36e4",
   "metadata": {},
   "outputs": [
    {
     "name": "stdout",
     "output_type": "stream",
     "text": [
      "English text: Akshat\n",
      "Average latency: 1.3936 seconds\n",
      "Transliterated Hindi text: ('अक्षत', [[('अक्षत', '0.6551'), ('अक्षत', '0.0172')]])\n"
     ]
    }
   ],
   "source": [
    "text = 'Akshat'\n",
    "print('English text:',text)\n",
    "print('Transliterated Hindi text:',predict_output(text))"
   ]
  },
  {
   "cell_type": "code",
   "execution_count": 126,
   "id": "3c71e691",
   "metadata": {
    "scrolled": true
   },
   "outputs": [
    {
     "name": "stdout",
     "output_type": "stream",
     "text": [
      "English text: Aaj Hum sab ghumne jaayenge\n",
      "Average latency: 1.3996 seconds\n",
      "Transliterated Hindi text: ('आज हम सब घुमने जायेंगे', [[('आज', '0.6285'), ('आज', '0.0022')], [('हम', '0.0018'), ('हुम', '0.0016')], [('सब', '0.0055'), ('सब', '0.0050')], [('घुमने', '0.3715'), ('घुमने', '0.2759')], [('जायेंगे', '0.2963'), ('जाएँगे', '0.2188')]])\n"
     ]
    }
   ],
   "source": [
    "text = 'Aaj Hum sab ghumne jaayenge'\n",
    "print('English text:',text)\n",
    "print('Transliterated Hindi text:',predict_output(text))"
   ]
  },
  {
   "cell_type": "code",
   "execution_count": 127,
   "id": "3f78fd53",
   "metadata": {},
   "outputs": [
    {
     "name": "stdout",
     "output_type": "stream",
     "text": [
      "English text: Abhinav\n",
      "Average latency: 1.8303 seconds\n",
      "Transliterated Hindi text: ('अभिनाव', [[('अभिनाव', '0.3359'), ('अभिनव', '0.3025')]])\n"
     ]
    }
   ],
   "source": [
    "text = 'Abhinav'\n",
    "print('English text:',text)\n",
    "print('Transliterated Hindi text:',predict_output(text))"
   ]
  },
  {
   "cell_type": "code",
   "execution_count": 128,
   "id": "337150e6",
   "metadata": {},
   "outputs": [
    {
     "name": "stdout",
     "output_type": "stream",
     "text": [
      "English text: Hindustan\n",
      "Average latency: 1.4069 seconds\n",
      "Transliterated Hindi text: ('हिंदुस्तान', [[('हिंदुस्तान', '0.2825'), ('हिन्दुस्तान', '0.2779')]])\n"
     ]
    }
   ],
   "source": [
    "text = 'Hindustan'\n",
    "print('English text:',text)\n",
    "print('Transliterated Hindi text:',predict_output(text))"
   ]
  },
  {
   "cell_type": "code",
   "execution_count": 129,
   "id": "2e2f0371",
   "metadata": {},
   "outputs": [
    {
     "name": "stdout",
     "output_type": "stream",
     "text": [
      "English text: Aman\n",
      "Average latency: 1.3987 seconds\n",
      "Transliterated Hindi text: ('अमान', [[('अमान', '0.0108'), ('अमन', '0.0041')]])\n"
     ]
    }
   ],
   "source": [
    "text = 'Aman'\n",
    "print('English text:',text)\n",
    "print('Transliterated Hindi text:',predict_output(text))"
   ]
  },
  {
   "cell_type": "code",
   "execution_count": null,
   "id": "b9c800fe",
   "metadata": {},
   "outputs": [],
   "source": []
  }
 ],
 "metadata": {
  "kernelspec": {
   "display_name": "Python 3 (ipykernel)",
   "language": "python",
   "name": "python3"
  },
  "language_info": {
   "codemirror_mode": {
    "name": "ipython",
    "version": 3
   },
   "file_extension": ".py",
   "mimetype": "text/x-python",
   "name": "python",
   "nbconvert_exporter": "python",
   "pygments_lexer": "ipython3",
   "version": "3.8.13"
  }
 },
 "nbformat": 4,
 "nbformat_minor": 5
}
