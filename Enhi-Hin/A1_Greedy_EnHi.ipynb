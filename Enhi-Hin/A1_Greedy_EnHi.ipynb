{
 "cells": [
  {
   "cell_type": "code",
   "execution_count": 2,
   "id": "5699b80a",
   "metadata": {},
   "outputs": [
    {
     "name": "stdout",
     "output_type": "stream",
     "text": [
      "Mon Jun 10 06:49:20 2024       \n",
      "+---------------------------------------------------------------------------------------+\n",
      "| NVIDIA-SMI 535.146.02             Driver Version: 535.146.02   CUDA Version: 12.2     |\n",
      "|-----------------------------------------+----------------------+----------------------+\n",
      "| GPU  Name                 Persistence-M | Bus-Id        Disp.A | Volatile Uncorr. ECC |\n",
      "| Fan  Temp   Perf          Pwr:Usage/Cap |         Memory-Usage | GPU-Util  Compute M. |\n",
      "|                                         |                      |               MIG M. |\n",
      "|=========================================+======================+======================|\n",
      "|   0  NVIDIA GeForce RTX 2080 ...    Off | 00000000:03:00.0 Off |                  N/A |\n",
      "| 27%   32C    P8               1W / 250W |      1MiB /  8192MiB |      0%      Default |\n",
      "|                                         |                      |                  N/A |\n",
      "+-----------------------------------------+----------------------+----------------------+\n",
      "|   1  NVIDIA GeForce RTX 2080 ...    Off | 00000000:0E:00.0 Off |                  N/A |\n",
      "| 27%   36C    P8               7W / 250W |      1MiB /  8192MiB |      0%      Default |\n",
      "|                                         |                      |                  N/A |\n",
      "+-----------------------------------------+----------------------+----------------------+\n",
      "|   2  NVIDIA GeForce RTX 2080 ...    Off | 00000000:0F:00.0 Off |                  N/A |\n",
      "| 27%   36C    P8              19W / 250W |   6937MiB /  8192MiB |      0%      Default |\n",
      "|                                         |                      |                  N/A |\n",
      "+-----------------------------------------+----------------------+----------------------+\n",
      "                                                                                         \n",
      "+---------------------------------------------------------------------------------------+\n",
      "| Processes:                                                                            |\n",
      "|  GPU   GI   CI        PID   Type   Process name                            GPU Memory |\n",
      "|        ID   ID                                                             Usage      |\n",
      "|=======================================================================================|\n",
      "+---------------------------------------------------------------------------------------+\n"
     ]
    }
   ],
   "source": [
    "!nvidia-smi"
   ]
  },
  {
   "cell_type": "code",
   "execution_count": 3,
   "id": "83b49b17",
   "metadata": {},
   "outputs": [],
   "source": [
    "import os\n",
    "# Assign GPU number\n",
    "os.environ[\"CUDA_VISIBLE_DEVICES\"]=\"1\""
   ]
  },
  {
   "cell_type": "code",
   "execution_count": null,
   "id": "35a47bdd",
   "metadata": {},
   "outputs": [],
   "source": []
  },
  {
   "cell_type": "code",
   "execution_count": 4,
   "id": "9630de74",
   "metadata": {
    "scrolled": false
   },
   "outputs": [
    {
     "ename": "RuntimeError",
     "evalue": "module compiled against API version 0xe but this version of numpy is 0xd",
     "output_type": "error",
     "traceback": [
      "\u001b[0;31m---------------------------------------------------------------------------\u001b[0m",
      "\u001b[0;31mRuntimeError\u001b[0m                              Traceback (most recent call last)",
      "\u001b[0;31mRuntimeError\u001b[0m: module compiled against API version 0xe but this version of numpy is 0xd"
     ]
    },
    {
     "name": "stderr",
     "output_type": "stream",
     "text": [
      "2024-06-10 06:49:21.359619: I tensorflow/stream_executor/platform/default/dso_loader.cc:53] Successfully opened dynamic library libcudart.so.11.0\n"
     ]
    }
   ],
   "source": [
    "import json\n",
    "import os\n",
    "import pandas as pd\n",
    "import tensorflow as tf\n",
    "from sklearn.model_selection import train_test_split\n",
    "from tensorflow.keras.models import Model, load_model\n",
    "from tensorflow.keras.layers import Input, LSTM, Dense, Dropout\n",
    "import numpy as np"
   ]
  },
  {
   "cell_type": "code",
   "execution_count": 5,
   "id": "519773c7",
   "metadata": {},
   "outputs": [],
   "source": [
    "def load_json(file_path):\n",
    "    with open(file_path, 'r') as f:\n",
    "        try:\n",
    "            data = json.load(f)\n",
    "        except json.JSONDecodeError:\n",
    "            data = []\n",
    "            f.seek(0)\n",
    "            for line in f:\n",
    "                try:\n",
    "                    data.append(json.loads(line))\n",
    "                except json.JSONDecodeError as e:\n",
    "                    print(f\"Error decoding JSON in line: {line}\\nError: {e}\")\n",
    "    return data"
   ]
  },
  {
   "cell_type": "code",
   "execution_count": 6,
   "id": "8d7a97aa",
   "metadata": {},
   "outputs": [],
   "source": [
    "train_file_path = 'hin_train.json'"
   ]
  },
  {
   "cell_type": "code",
   "execution_count": 7,
   "id": "b7431395",
   "metadata": {},
   "outputs": [
    {
     "name": "stdout",
     "output_type": "stream",
     "text": [
      "Train Data Loaded:\n",
      "Number of records: 1299155\n",
      "First record: {'unique_identifier': 'hin1', 'native word': 'जन्मदिवस', 'english word': 'janamdivas', 'source': 'Dakshina', 'score': None}\n"
     ]
    }
   ],
   "source": [
    "if os.path.exists(train_file_path):\n",
    "    \n",
    "    train_data = load_json(train_file_path)\n",
    "\n",
    "    def print_summary(data, name):\n",
    "        print(f\"{name} Data Loaded:\")\n",
    "        print(f\"Number of records: {len(data)}\")\n",
    "        if isinstance(data, list) and len(data) > 0:\n",
    "            print(\"First record:\", data[0])\n",
    "        elif isinstance(data, dict):\n",
    "            print(\"Keys:\", list(data.keys()))\n",
    "\n",
    "    print_summary(train_data, \"Train\")"
   ]
  },
  {
   "cell_type": "code",
   "execution_count": 8,
   "id": "363bed9b",
   "metadata": {},
   "outputs": [],
   "source": [
    "keys_to_keep = ['native word', 'english word']\n",
    "\n",
    "def filter_keys(data, keys_to_keep):\n",
    "    filtered_data = [{key: item[key] for key in keys_to_keep if key in item} for item in data]\n",
    "    return filtered_data\n",
    "\n",
    "# def print_sample(data, name, sample_size=5):\n",
    "#     print(f\"Filtered {name} Data Sample:\")\n",
    "#     for item in data[:sample_size]:\n",
    "#         print(item)\n",
    "\n",
    "train_data_filtered = filter_keys(train_data, keys_to_keep)\n",
    "train = list(train_data_filtered)\n",
    "\n",
    "# print_sample(train, \"Train\")"
   ]
  },
  {
   "cell_type": "code",
   "execution_count": 9,
   "id": "3b0ed9c3",
   "metadata": {},
   "outputs": [
    {
     "data": {
      "text/html": [
       "<div>\n",
       "<style scoped>\n",
       "    .dataframe tbody tr th:only-of-type {\n",
       "        vertical-align: middle;\n",
       "    }\n",
       "\n",
       "    .dataframe tbody tr th {\n",
       "        vertical-align: top;\n",
       "    }\n",
       "\n",
       "    .dataframe thead th {\n",
       "        text-align: right;\n",
       "    }\n",
       "</style>\n",
       "<table border=\"1\" class=\"dataframe\">\n",
       "  <thead>\n",
       "    <tr style=\"text-align: right;\">\n",
       "      <th></th>\n",
       "      <th>hindi</th>\n",
       "      <th>english</th>\n",
       "    </tr>\n",
       "  </thead>\n",
       "  <tbody>\n",
       "    <tr>\n",
       "      <th>0</th>\n",
       "      <td>जन्मदिवस</td>\n",
       "      <td>janamdivas</td>\n",
       "    </tr>\n",
       "    <tr>\n",
       "      <th>1</th>\n",
       "      <td>रक्खा</td>\n",
       "      <td>rakha</td>\n",
       "    </tr>\n",
       "    <tr>\n",
       "      <th>2</th>\n",
       "      <td>मिलीजुली</td>\n",
       "      <td>milijuli</td>\n",
       "    </tr>\n",
       "    <tr>\n",
       "      <th>3</th>\n",
       "      <td>जांचों</td>\n",
       "      <td>jaanchon</td>\n",
       "    </tr>\n",
       "    <tr>\n",
       "      <th>4</th>\n",
       "      <td>चमकता</td>\n",
       "      <td>chamkata</td>\n",
       "    </tr>\n",
       "  </tbody>\n",
       "</table>\n",
       "</div>"
      ],
      "text/plain": [
       "      hindi     english\n",
       "0  जन्मदिवस  janamdivas\n",
       "1     रक्खा       rakha\n",
       "2  मिलीजुली    milijuli\n",
       "3    जांचों    jaanchon\n",
       "4     चमकता    chamkata"
      ]
     },
     "execution_count": 9,
     "metadata": {},
     "output_type": "execute_result"
    }
   ],
   "source": [
    "train = pd.DataFrame(train)\n",
    "\n",
    "train.rename(columns={'native word': 'hindi', 'english word': 'english'}, inplace=True)\n",
    "train.head()"
   ]
  },
  {
   "cell_type": "code",
   "execution_count": 10,
   "id": "add21793",
   "metadata": {},
   "outputs": [
    {
     "data": {
      "text/plain": [
       "(1299155, 2)"
      ]
     },
     "execution_count": 10,
     "metadata": {},
     "output_type": "execute_result"
    }
   ],
   "source": [
    "train.shape"
   ]
  },
  {
   "cell_type": "code",
   "execution_count": 11,
   "id": "b63c81cc",
   "metadata": {},
   "outputs": [],
   "source": [
    "train['hindi'] = train['hindi'].astype(str)\n",
    "train['english'] = train['english'].astype(str)\n",
    "\n",
    "train['hindi'] = train['hindi'].str.strip()\n",
    "train['english'] = train['english'].str.strip().str.lower()\n",
    "\n",
    "train = train[~train['english'].str.contains('\\.')]\n",
    "train = train[~train['english'].str.contains(',')]"
   ]
  },
  {
   "cell_type": "code",
   "execution_count": 12,
   "id": "77bf7b2a",
   "metadata": {},
   "outputs": [
    {
     "name": "stdout",
     "output_type": "stream",
     "text": [
      "        hindi       english\n",
      "0  ^जन्मदिवस$  ^janamdivas$\n",
      "1     ^रक्खा$       ^rakha$\n",
      "2  ^मिलीजुली$    ^milijuli$\n",
      "3    ^जांचों$    ^jaanchon$\n",
      "4     ^चमकता$    ^chamkata$\n"
     ]
    }
   ],
   "source": [
    "def isEnglish(s):\n",
    "    try:\n",
    "        s.encode(encoding='utf-8').decode('ascii')\n",
    "    except UnicodeDecodeError:\n",
    "        return False\n",
    "    else:\n",
    "        return True\n",
    "\n",
    "train = train[train['english'].apply(isEnglish)]\n",
    "\n",
    "sos = '^'\n",
    "eos = '$'\n",
    "train['english'] = sos + train['english'].astype(str) + eos\n",
    "train['hindi'] = sos + train['hindi'].astype(str) + eos\n",
    "\n",
    "print(train.head())"
   ]
  },
  {
   "cell_type": "code",
   "execution_count": 13,
   "id": "37c7db91",
   "metadata": {},
   "outputs": [
    {
     "name": "stdout",
     "output_type": "stream",
     "text": [
      "english text shape : (1299155,)\n",
      "^janamdivas$\n",
      "hindi text shape : (1299155,)\n",
      "^जन्मदिवस$\n"
     ]
    }
   ],
   "source": [
    "english_text = train['english']\n",
    "hindi_text = train['hindi']\n",
    "\n",
    "print('english text shape :', english_text.shape)\n",
    "print(english_text[0])\n",
    "print('hindi text shape :', hindi_text.shape)\n",
    "print(hindi_text[0])"
   ]
  },
  {
   "cell_type": "code",
   "execution_count": 14,
   "id": "0cf83b49",
   "metadata": {
    "scrolled": true
   },
   "outputs": [],
   "source": [
    "train_english_text, val_english_text, train_hindi_text, val_hindi_text = train_test_split(english_text, hindi_text, test_size=0.2, random_state=42)"
   ]
  },
  {
   "cell_type": "code",
   "execution_count": 15,
   "id": "2f3fc3d8",
   "metadata": {},
   "outputs": [
    {
     "name": "stdout",
     "output_type": "stream",
     "text": [
      "34\n",
      "30\n"
     ]
    }
   ],
   "source": [
    "# Calculate max input and target lengths\n",
    "max_input_len = max([len(text) for text in english_text])\n",
    "print(max_input_len)\n",
    "max_target_len = max([len(text) for text in hindi_text])\n",
    "print(max_target_len)"
   ]
  },
  {
   "cell_type": "code",
   "execution_count": 16,
   "id": "01cbd1a0",
   "metadata": {},
   "outputs": [
    {
     "name": "stdout",
     "output_type": "stream",
     "text": [
      "['$', '^', 'a', 'b', 'c', 'd', 'e', 'f', 'g', 'h', 'i', 'j', 'k', 'l', 'm', 'n', 'o', 'p', 'q', 'r', 's', 't', 'u', 'v', 'w', 'x', 'y', 'z']\n",
      "['$', '^', 'ँ', 'ं', 'ः', 'अ', 'आ', 'इ', 'ई', 'उ', 'ऊ', 'ऋ', 'ऍ', 'ए', 'ऐ', 'ऑ', 'ओ', 'औ', 'क', 'ख', 'ग', 'घ', 'ङ', 'च', 'छ', 'ज', 'झ', 'ञ', 'ट', 'ठ', 'ड', 'ढ', 'ण', 'त', 'थ', 'द', 'ध', 'न', 'प', 'फ', 'ब', 'भ', 'म', 'य', 'र', 'ल', 'ळ', 'व', 'श', 'ष', 'स', 'ह', '़', 'ऽ', 'ा', 'ि', 'ी', 'ु', 'ू', 'ृ', 'ॅ', 'े', 'ै', 'ॉ', 'ॊ', 'ो', 'ौ', '्', 'ॐ', 'ॠ', '॥']\n",
      "28\n",
      "71\n"
     ]
    }
   ],
   "source": [
    "input_chars = sorted(list(set(''.join(english_text))))\n",
    "print(input_chars)\n",
    "target_chars = sorted(list(set(''.join(hindi_text))))\n",
    "print(target_chars)\n",
    "\n",
    "num_encoder_tokens = len(input_chars)\n",
    "print(num_encoder_tokens)\n",
    "num_decoder_tokens = len(target_chars)\n",
    "print(num_decoder_tokens)"
   ]
  },
  {
   "cell_type": "code",
   "execution_count": 17,
   "id": "d73f0cdd",
   "metadata": {},
   "outputs": [
    {
     "name": "stdout",
     "output_type": "stream",
     "text": [
      "{'$': 0, '^': 1, 'a': 2, 'b': 3, 'c': 4, 'd': 5, 'e': 6, 'f': 7, 'g': 8, 'h': 9, 'i': 10, 'j': 11, 'k': 12, 'l': 13, 'm': 14, 'n': 15, 'o': 16, 'p': 17, 'q': 18, 'r': 19, 's': 20, 't': 21, 'u': 22, 'v': 23, 'w': 24, 'x': 25, 'y': 26, 'z': 27}\n",
      "{'$': 0, '^': 1, 'ँ': 2, 'ं': 3, 'ः': 4, 'अ': 5, 'आ': 6, 'इ': 7, 'ई': 8, 'उ': 9, 'ऊ': 10, 'ऋ': 11, 'ऍ': 12, 'ए': 13, 'ऐ': 14, 'ऑ': 15, 'ओ': 16, 'औ': 17, 'क': 18, 'ख': 19, 'ग': 20, 'घ': 21, 'ङ': 22, 'च': 23, 'छ': 24, 'ज': 25, 'झ': 26, 'ञ': 27, 'ट': 28, 'ठ': 29, 'ड': 30, 'ढ': 31, 'ण': 32, 'त': 33, 'थ': 34, 'द': 35, 'ध': 36, 'न': 37, 'प': 38, 'फ': 39, 'ब': 40, 'भ': 41, 'म': 42, 'य': 43, 'र': 44, 'ल': 45, 'ळ': 46, 'व': 47, 'श': 48, 'ष': 49, 'स': 50, 'ह': 51, '़': 52, 'ऽ': 53, 'ा': 54, 'ि': 55, 'ी': 56, 'ु': 57, 'ू': 58, 'ृ': 59, 'ॅ': 60, 'े': 61, 'ै': 62, 'ॉ': 63, 'ॊ': 64, 'ो': 65, 'ौ': 66, '्': 67, 'ॐ': 68, 'ॠ': 69, '॥': 70}\n"
     ]
    }
   ],
   "source": [
    "input_char_index = dict((char, i) for i, char in enumerate(input_chars))\n",
    "print(input_char_index)\n",
    "target_char_index = dict((char, i) for i, char in enumerate(target_chars))\n",
    "print(target_char_index)"
   ]
  },
  {
   "cell_type": "code",
   "execution_count": 18,
   "id": "eee203b8",
   "metadata": {},
   "outputs": [],
   "source": [
    "encoder_input_data = np.zeros((len(train_english_text), max_input_len, num_encoder_tokens), dtype='float32')\n",
    "decoder_input_data = np.zeros((len(train_hindi_text), max_target_len, num_decoder_tokens), dtype='float32')\n",
    "decoder_target_data = np.zeros((len(train_hindi_text), max_target_len, num_decoder_tokens), dtype='float32')\n",
    "\n",
    "for i, (input_text, target_text) in enumerate(zip(train_english_text, train_hindi_text)):\n",
    "    for t, char in enumerate(input_text):\n",
    "        encoder_input_data[i, t, input_char_index[char]] = 1\n",
    "    for t, char in enumerate(target_text):\n",
    "        decoder_input_data[i, t, target_char_index[char]] = 1\n",
    "        if t > 0:\n",
    "            decoder_target_data[i, t - 1, target_char_index[char]] = 1"
   ]
  },
  {
   "cell_type": "code",
   "execution_count": 19,
   "id": "3561f435",
   "metadata": {},
   "outputs": [],
   "source": [
    "def custom_accuracy(y_true, y_pred):\n",
    "    y_true_argmax = tf.argmax(y_true, axis=-1)\n",
    "    y_pred_argmax = tf.argmax(y_pred, axis=-1)\n",
    "    mask = tf.cast(tf.not_equal(y_true_argmax, 0), dtype=tf.float32)\n",
    "    matches = tf.cast(tf.equal(y_true_argmax, y_pred_argmax), dtype=tf.float32)\n",
    "    masked_matches = matches * mask\n",
    "    accuracy = tf.reduce_sum(masked_matches) / tf.reduce_sum(mask)\n",
    "    return accuracy\n",
    "\n",
    "def custom_loss(y_true, y_pred):\n",
    "    mask = tf.cast(tf.not_equal(tf.reduce_sum(y_true, axis=-1), 0), dtype=tf.float32)\n",
    "    loss = tf.keras.losses.categorical_crossentropy(y_true, y_pred)\n",
    "    masked_loss = loss * mask\n",
    "    return tf.reduce_sum(masked_loss) / tf.reduce_sum(mask)\n"
   ]
  },
  {
   "cell_type": "code",
   "execution_count": 20,
   "id": "91b81a39",
   "metadata": {
    "collapsed": true
   },
   "outputs": [
    {
     "name": "stdout",
     "output_type": "stream",
     "text": [
      "WARNING:tensorflow:Layer lstm will not use cuDNN kernels since it doesn't meet the criteria. It will use a generic GPU kernel as fallback when running on GPU.\n",
      "WARNING:tensorflow:Layer lstm_1 will not use cuDNN kernels since it doesn't meet the criteria. It will use a generic GPU kernel as fallback when running on GPU.\n"
     ]
    },
    {
     "name": "stderr",
     "output_type": "stream",
     "text": [
      "2024-06-10 06:49:43.838900: I tensorflow/stream_executor/platform/default/dso_loader.cc:53] Successfully opened dynamic library libcuda.so.1\n",
      "2024-06-10 06:49:43.874906: I tensorflow/stream_executor/cuda/cuda_gpu_executor.cc:937] successful NUMA node read from SysFS had negative value (-1), but there must be at least one NUMA node, so returning NUMA node zero\n",
      "2024-06-10 06:49:43.875222: I tensorflow/core/common_runtime/gpu/gpu_device.cc:1733] Found device 0 with properties: \n",
      "pciBusID: 0000:0e:00.0 name: NVIDIA GeForce RTX 2080 SUPER computeCapability: 7.5\n",
      "coreClock: 1.815GHz coreCount: 48 deviceMemorySize: 7.79GiB deviceMemoryBandwidth: 462.00GiB/s\n",
      "2024-06-10 06:49:43.875241: I tensorflow/stream_executor/platform/default/dso_loader.cc:53] Successfully opened dynamic library libcudart.so.11.0\n",
      "2024-06-10 06:49:43.877746: I tensorflow/stream_executor/platform/default/dso_loader.cc:53] Successfully opened dynamic library libcublas.so.11\n",
      "2024-06-10 06:49:43.877778: I tensorflow/stream_executor/platform/default/dso_loader.cc:53] Successfully opened dynamic library libcublasLt.so.11\n",
      "2024-06-10 06:49:43.898868: I tensorflow/stream_executor/platform/default/dso_loader.cc:53] Successfully opened dynamic library libcufft.so.10\n",
      "2024-06-10 06:49:43.899025: I tensorflow/stream_executor/platform/default/dso_loader.cc:53] Successfully opened dynamic library libcurand.so.10\n",
      "2024-06-10 06:49:43.899366: I tensorflow/stream_executor/platform/default/dso_loader.cc:53] Successfully opened dynamic library libcusolver.so.11\n",
      "2024-06-10 06:49:43.899802: I tensorflow/stream_executor/platform/default/dso_loader.cc:53] Successfully opened dynamic library libcusparse.so.11\n",
      "2024-06-10 06:49:43.899900: I tensorflow/stream_executor/platform/default/dso_loader.cc:53] Successfully opened dynamic library libcudnn.so.8\n",
      "2024-06-10 06:49:43.900017: I tensorflow/stream_executor/cuda/cuda_gpu_executor.cc:937] successful NUMA node read from SysFS had negative value (-1), but there must be at least one NUMA node, so returning NUMA node zero\n",
      "2024-06-10 06:49:43.900371: I tensorflow/stream_executor/cuda/cuda_gpu_executor.cc:937] successful NUMA node read from SysFS had negative value (-1), but there must be at least one NUMA node, so returning NUMA node zero\n",
      "2024-06-10 06:49:43.900634: I tensorflow/core/common_runtime/gpu/gpu_device.cc:1871] Adding visible gpu devices: 0\n",
      "2024-06-10 06:49:43.900913: I tensorflow/core/platform/cpu_feature_guard.cc:142] This TensorFlow binary is optimized with oneAPI Deep Neural Network Library (oneDNN) to use the following CPU instructions in performance-critical operations:  AVX2 FMA\n",
      "To enable them in other operations, rebuild TensorFlow with the appropriate compiler flags.\n",
      "2024-06-10 06:49:43.902308: I tensorflow/stream_executor/cuda/cuda_gpu_executor.cc:937] successful NUMA node read from SysFS had negative value (-1), but there must be at least one NUMA node, so returning NUMA node zero\n",
      "2024-06-10 06:49:43.902587: I tensorflow/core/common_runtime/gpu/gpu_device.cc:1733] Found device 0 with properties: \n",
      "pciBusID: 0000:0e:00.0 name: NVIDIA GeForce RTX 2080 SUPER computeCapability: 7.5\n",
      "coreClock: 1.815GHz coreCount: 48 deviceMemorySize: 7.79GiB deviceMemoryBandwidth: 462.00GiB/s\n",
      "2024-06-10 06:49:43.902639: I tensorflow/stream_executor/cuda/cuda_gpu_executor.cc:937] successful NUMA node read from SysFS had negative value (-1), but there must be at least one NUMA node, so returning NUMA node zero\n",
      "2024-06-10 06:49:43.902936: I tensorflow/stream_executor/cuda/cuda_gpu_executor.cc:937] successful NUMA node read from SysFS had negative value (-1), but there must be at least one NUMA node, so returning NUMA node zero\n",
      "2024-06-10 06:49:43.903192: I tensorflow/core/common_runtime/gpu/gpu_device.cc:1871] Adding visible gpu devices: 0\n",
      "2024-06-10 06:49:43.903214: I tensorflow/stream_executor/platform/default/dso_loader.cc:53] Successfully opened dynamic library libcudart.so.11.0\n",
      "2024-06-10 06:49:44.191318: I tensorflow/core/common_runtime/gpu/gpu_device.cc:1258] Device interconnect StreamExecutor with strength 1 edge matrix:\n",
      "2024-06-10 06:49:44.191350: I tensorflow/core/common_runtime/gpu/gpu_device.cc:1264]      0 \n",
      "2024-06-10 06:49:44.191355: I tensorflow/core/common_runtime/gpu/gpu_device.cc:1277] 0:   N \n",
      "2024-06-10 06:49:44.191609: I tensorflow/stream_executor/cuda/cuda_gpu_executor.cc:937] successful NUMA node read from SysFS had negative value (-1), but there must be at least one NUMA node, so returning NUMA node zero\n",
      "2024-06-10 06:49:44.191938: I tensorflow/stream_executor/cuda/cuda_gpu_executor.cc:937] successful NUMA node read from SysFS had negative value (-1), but there must be at least one NUMA node, so returning NUMA node zero\n",
      "2024-06-10 06:49:44.192240: I tensorflow/stream_executor/cuda/cuda_gpu_executor.cc:937] successful NUMA node read from SysFS had negative value (-1), but there must be at least one NUMA node, so returning NUMA node zero\n",
      "2024-06-10 06:49:44.192513: I tensorflow/core/common_runtime/gpu/gpu_device.cc:1418] Created TensorFlow device (/job:localhost/replica:0/task:0/device:GPU:0 with 6777 MB memory) -> physical GPU (device: 0, name: NVIDIA GeForce RTX 2080 SUPER, pci bus id: 0000:0e:00.0, compute capability: 7.5)\n"
     ]
    }
   ],
   "source": [
    "model = load_model('D1engHin_model.h5', custom_objects={'custom_loss': custom_loss, 'custom_accuracy':custom_accuracy})\n"
   ]
  },
  {
   "cell_type": "code",
   "execution_count": 21,
   "id": "361199e6",
   "metadata": {
    "scrolled": true
   },
   "outputs": [
    {
     "name": "stdout",
     "output_type": "stream",
     "text": [
      "WARNING:tensorflow:Layer lstm will not use cuDNN kernels since it doesn't meet the criteria. It will use a generic GPU kernel as fallback when running on GPU.\n",
      "WARNING:tensorflow:Layer lstm_1 will not use cuDNN kernels since it doesn't meet the criteria. It will use a generic GPU kernel as fallback when running on GPU.\n",
      "Model: \"model\"\n",
      "__________________________________________________________________________________________________\n",
      "Layer (type)                    Output Shape         Param #     Connected to                     \n",
      "==================================================================================================\n",
      "input_1 (InputLayer)            [(None, None, 28)]   0                                            \n",
      "__________________________________________________________________________________________________\n",
      "input_2 (InputLayer)            [(None, None, 71)]   0                                            \n",
      "__________________________________________________________________________________________________\n",
      "lstm (LSTM)                     [(None, 256), (None, 291840      input_1[0][0]                    \n",
      "__________________________________________________________________________________________________\n",
      "lstm_1 (LSTM)                   [(None, None, 256),  335872      input_2[0][0]                    \n",
      "                                                                 lstm[0][1]                       \n",
      "                                                                 lstm[0][2]                       \n",
      "__________________________________________________________________________________________________\n",
      "dense (Dense)                   (None, None, 71)     18247       lstm_1[0][0]                     \n",
      "==================================================================================================\n",
      "Total params: 645,959\n",
      "Trainable params: 645,959\n",
      "Non-trainable params: 0\n",
      "__________________________________________________________________________________________________\n"
     ]
    }
   ],
   "source": [
    "# Build the model\n",
    "encoder_inputs = Input(shape=(None, num_encoder_tokens))\n",
    "encoder = LSTM(256, return_state=True, dropout=0.3, recurrent_dropout=0.3)\n",
    "encoder_outputs, state_h, state_c = encoder(encoder_inputs)\n",
    "encoder_states = [state_h, state_c]\n",
    "\n",
    "decoder_inputs = Input(shape=(None, num_decoder_tokens))\n",
    "decoder_lstm = LSTM(256, return_sequences=True, return_state=True, dropout=0.3, recurrent_dropout=0.3)\n",
    "decoder_outputs, _, _ = decoder_lstm(decoder_inputs, initial_state=encoder_states)\n",
    "decoder_dense = Dense(num_decoder_tokens, activation='softmax')\n",
    "decoder_outputs = decoder_dense(decoder_outputs)\n",
    "\n",
    "model = Model([encoder_inputs, decoder_inputs], decoder_outputs)\n",
    "model.compile(optimizer=tf.keras.optimizers.Adam(learning_rate=0.001), loss=custom_loss, metrics=[custom_accuracy])\n",
    "\n",
    "model.summary()"
   ]
  },
  {
   "cell_type": "code",
   "execution_count": 22,
   "id": "3d42d0b7",
   "metadata": {
    "scrolled": true
   },
   "outputs": [],
   "source": [
    "# history = model.fit([encoder_input_data, decoder_input_data], decoder_target_data,\n",
    "#           batch_size=128,\n",
    "#           epochs=50,\n",
    "#           validation_split=0.2)"
   ]
  },
  {
   "cell_type": "code",
   "execution_count": 23,
   "id": "4990f006",
   "metadata": {},
   "outputs": [],
   "source": [
    "model.load_weights('D1engHin_model.h5')"
   ]
  },
  {
   "cell_type": "code",
   "execution_count": 24,
   "id": "0083e944",
   "metadata": {},
   "outputs": [],
   "source": [
    "val_encoder_input_data = np.zeros((len(val_english_text), max_input_len, num_encoder_tokens), dtype='float32')\n",
    "val_decoder_input_data = np.zeros((len(val_hindi_text), max_target_len, num_decoder_tokens), dtype='float32')\n",
    "val_decoder_target_data = np.zeros((len(val_hindi_text), max_target_len, num_decoder_tokens), dtype='float32')\n",
    "\n",
    "for i, (input_text, target_text) in enumerate(zip(val_english_text, val_hindi_text)):\n",
    "    for t, char in enumerate(input_text):\n",
    "        val_encoder_input_data[i, t, input_char_index[char]] = 1\n",
    "    for t, char in enumerate(target_text):\n",
    "        val_decoder_input_data[i, t, target_char_index[char]] = 1\n",
    "        if t > 0:\n",
    "            val_decoder_target_data[i, t - 1, target_char_index[char]] = 1"
   ]
  },
  {
   "cell_type": "code",
   "execution_count": 25,
   "id": "2cf0a312",
   "metadata": {},
   "outputs": [
    {
     "name": "stderr",
     "output_type": "stream",
     "text": [
      "2024-06-10 06:49:49.571007: I tensorflow/compiler/mlir/mlir_graph_optimization_pass.cc:176] None of the MLIR Optimization Passes are enabled (registered 2)\n",
      "2024-06-10 06:49:49.587571: I tensorflow/core/platform/profile_utils/cpu_utils.cc:114] CPU Frequency: 3500030000 Hz\n",
      "2024-06-10 06:49:50.241101: I tensorflow/stream_executor/platform/default/dso_loader.cc:53] Successfully opened dynamic library libcublas.so.11\n"
     ]
    },
    {
     "name": "stdout",
     "output_type": "stream",
     "text": [
      "   7/8120 [..............................] - ETA: 2:51 - loss: 0.2618 - custom_accuracy: 0.8984  "
     ]
    },
    {
     "name": "stderr",
     "output_type": "stream",
     "text": [
      "2024-06-10 06:49:50.479522: I tensorflow/stream_executor/platform/default/dso_loader.cc:53] Successfully opened dynamic library libcublasLt.so.11\n"
     ]
    },
    {
     "name": "stdout",
     "output_type": "stream",
     "text": [
      "8120/8120 [==============================] - 178s 22ms/step - loss: 0.2661 - custom_accuracy: 0.9023\n",
      "Val loss: 0.26612356305122375\n",
      "Val accuracy: 0.9022973775863647\n"
     ]
    }
   ],
   "source": [
    "scores = model.evaluate([val_encoder_input_data, val_decoder_input_data], val_decoder_target_data, verbose=1)\n",
    "print('Val loss:', scores[0])\n",
    "print('Val accuracy:', scores[1])"
   ]
  },
  {
   "cell_type": "code",
   "execution_count": 26,
   "id": "3b9f3dfb",
   "metadata": {},
   "outputs": [],
   "source": [
    "encoder_model = Model(encoder_inputs, encoder_states)\n",
    "\n",
    "decoder_state_input_h = Input(shape=(256,))\n",
    "decoder_state_input_c = Input(shape=(256,))\n",
    "decoder_states_inputs = [decoder_state_input_h, decoder_state_input_c]\n",
    "decoder_outputs, state_h, state_c = decoder_lstm(decoder_inputs, initial_state=decoder_states_inputs)\n",
    "decoder_states = [state_h, state_c]\n",
    "decoder_outputs = decoder_dense(decoder_outputs)\n",
    "decoder_model = Model([decoder_inputs] + decoder_states_inputs, [decoder_outputs] + decoder_states)"
   ]
  },
  {
   "cell_type": "code",
   "execution_count": 34,
   "id": "3f78fd53",
   "metadata": {},
   "outputs": [],
   "source": [
    "import time\n",
    "def decode_sequence(input_seq):\n",
    "    start_time = time.time()\n",
    "    states_value = encoder_model.predict(input_seq)\n",
    "    target_seq = np.zeros((1, 1, len(target_chars)))\n",
    "    target_seq[0, 0, target_char_index['^']] = 1.0\n",
    "    stop_condition = False\n",
    "    decoded_sentence = ''\n",
    "    step = 0\n",
    "    \n",
    "    while not stop_condition:\n",
    "        output_tokens, h, c = decoder_model.predict([target_seq] + states_value)\n",
    "        sampled_token_index = np.argmax(output_tokens[0, -1, :])\n",
    "        sampled_char = target_chars[sampled_token_index]\n",
    "        decoded_sentence += sampled_char\n",
    "        \n",
    "        # Debugging statement\n",
    "        print(f'Step {step}: Sampled char: {sampled_char}, Decoded sentence so far: {decoded_sentence}')\n",
    "        \n",
    "        if sampled_char == '$' or len(decoded_sentence) > max_target_len:\n",
    "            stop_condition = True\n",
    "            \n",
    "        target_seq = np.zeros((1, 1, len(target_chars)))\n",
    "        target_seq[0, 0, sampled_token_index] = 1.0\n",
    "        states_value = [h, c]\n",
    "        step += 1\n",
    "        \n",
    "    end_time = time.time()\n",
    "    latency = end_time - start_time\n",
    "    return decoded_sentence, latency  "
   ]
  },
  {
   "cell_type": "code",
   "execution_count": 35,
   "id": "337150e6",
   "metadata": {},
   "outputs": [],
   "source": [
    "def predict_output(input_text):\n",
    "    total_latency = 0\n",
    "    words = input_text.split(' ')\n",
    "    transliterated_words = []\n",
    "    \n",
    "    for word in words:\n",
    "        word = '^' + word.lower() + '$'\n",
    "        input_seq = np.zeros((1, max_input_len, len(input_chars)), dtype='float32')\n",
    "        for t, char in enumerate(word):\n",
    "            if char in input_char_index:\n",
    "                input_seq[0, t, input_char_index[char]] = 1\n",
    "        \n",
    "        print(f'\\nInput word: {word}')\n",
    "        \n",
    "        decoded_word, latency = decode_sequence(input_seq)\n",
    "        total_latency += latency\n",
    "        \n",
    "        print(f'Decoded word: {decoded_word}')\n",
    "        \n",
    "        transliterated_words.append(decoded_word.rstrip('$'))\n",
    "    \n",
    "    average_latency = total_latency / len(words) if words else 0\n",
    "    print(f'Average latency for the input text: {average_latency:.4f} seconds')    \n",
    "    return ' '.join(transliterated_words)"
   ]
  },
  {
   "cell_type": "code",
   "execution_count": 37,
   "id": "141a94f9",
   "metadata": {},
   "outputs": [
    {
     "name": "stdout",
     "output_type": "stream",
     "text": [
      "English text: Shubhkaamna\n",
      "\n",
      "Input word: ^shubhkaamna$\n",
      "Step 0: Sampled char: श, Decoded sentence so far: श\n",
      "Step 1: Sampled char: ु, Decoded sentence so far: शु\n",
      "Step 2: Sampled char: भ, Decoded sentence so far: शुभ\n",
      "Step 3: Sampled char: क, Decoded sentence so far: शुभक\n",
      "Step 4: Sampled char: ा, Decoded sentence so far: शुभका\n",
      "Step 5: Sampled char: म, Decoded sentence so far: शुभकाम\n",
      "Step 6: Sampled char: न, Decoded sentence so far: शुभकामन\n",
      "Step 7: Sampled char: ा, Decoded sentence so far: शुभकामना\n",
      "Step 8: Sampled char: $, Decoded sentence so far: शुभकामना$\n",
      "Decoded word: शुभकामना$\n",
      "Average latency for the input text: 0.3306 seconds\n",
      "Transliterated Hindi text: शुभकामना\n"
     ]
    }
   ],
   "source": [
    "text = 'Shubhkaamna'\n",
    "print('English text:',text)\n",
    "print('Transliterated Hindi text:',predict_output(text))"
   ]
  },
  {
   "cell_type": "code",
   "execution_count": 38,
   "id": "dc3b1c34",
   "metadata": {
    "scrolled": false
   },
   "outputs": [
    {
     "name": "stdout",
     "output_type": "stream",
     "text": [
      "English text: Rishabh\n",
      "\n",
      "Input word: ^rishabh$\n",
      "Step 0: Sampled char: ऋ, Decoded sentence so far: ऋ\n",
      "Step 1: Sampled char: ष, Decoded sentence so far: ऋष\n",
      "Step 2: Sampled char: भ, Decoded sentence so far: ऋषभ\n",
      "Step 3: Sampled char: $, Decoded sentence so far: ऋषभ$\n",
      "Decoded word: ऋषभ$\n",
      "Average latency for the input text: 0.1664 seconds\n",
      "Transliterated Hindi text: ऋषभ\n"
     ]
    }
   ],
   "source": [
    "text = 'Rishabh'\n",
    "print('English text:',text)\n",
    "print('Transliterated Hindi text:',predict_output(text))"
   ]
  },
  {
   "cell_type": "code",
   "execution_count": 39,
   "id": "493e36e4",
   "metadata": {},
   "outputs": [
    {
     "name": "stdout",
     "output_type": "stream",
     "text": [
      "English text: Akshat\n",
      "\n",
      "Input word: ^akshat$\n",
      "Step 0: Sampled char: अ, Decoded sentence so far: अ\n",
      "Step 1: Sampled char: क, Decoded sentence so far: अक\n",
      "Step 2: Sampled char: ्, Decoded sentence so far: अक्\n",
      "Step 3: Sampled char: ष, Decoded sentence so far: अक्ष\n",
      "Step 4: Sampled char: त, Decoded sentence so far: अक्षत\n",
      "Step 5: Sampled char: $, Decoded sentence so far: अक्षत$\n",
      "Decoded word: अक्षत$\n",
      "Average latency for the input text: 0.2111 seconds\n",
      "Transliterated Hindi text: अक्षत\n"
     ]
    }
   ],
   "source": [
    "text = 'Akshat'\n",
    "print('English text:',text)\n",
    "print('Transliterated Hindi text:',predict_output(text))"
   ]
  },
  {
   "cell_type": "code",
   "execution_count": 41,
   "id": "2e2f0371",
   "metadata": {
    "scrolled": true
   },
   "outputs": [
    {
     "name": "stdout",
     "output_type": "stream",
     "text": [
      "English text: Aaj Hum sab ghumne jayenge\n",
      "\n",
      "Input word: ^aaj$\n",
      "Step 0: Sampled char: आ, Decoded sentence so far: आ\n",
      "Step 1: Sampled char: ज, Decoded sentence so far: आज\n",
      "Step 2: Sampled char: $, Decoded sentence so far: आज$\n",
      "Decoded word: आज$\n",
      "\n",
      "Input word: ^hum$\n",
      "Step 0: Sampled char: ह, Decoded sentence so far: ह\n",
      "Step 1: Sampled char: म, Decoded sentence so far: हम\n",
      "Step 2: Sampled char: $, Decoded sentence so far: हम$\n",
      "Decoded word: हम$\n",
      "\n",
      "Input word: ^sab$\n",
      "Step 0: Sampled char: स, Decoded sentence so far: स\n",
      "Step 1: Sampled char: ब, Decoded sentence so far: सब\n",
      "Step 2: Sampled char: $, Decoded sentence so far: सब$\n",
      "Decoded word: सब$\n",
      "\n",
      "Input word: ^ghumne$\n",
      "Step 0: Sampled char: घ, Decoded sentence so far: घ\n",
      "Step 1: Sampled char: ु, Decoded sentence so far: घु\n",
      "Step 2: Sampled char: म, Decoded sentence so far: घुम\n",
      "Step 3: Sampled char: न, Decoded sentence so far: घुमन\n",
      "Step 4: Sampled char: े, Decoded sentence so far: घुमने\n",
      "Step 5: Sampled char: $, Decoded sentence so far: घुमने$\n",
      "Decoded word: घुमने$\n",
      "\n",
      "Input word: ^jayenge$\n",
      "Step 0: Sampled char: ज, Decoded sentence so far: ज\n",
      "Step 1: Sampled char: य, Decoded sentence so far: जय\n",
      "Step 2: Sampled char: े, Decoded sentence so far: जये\n",
      "Step 3: Sampled char: ं, Decoded sentence so far: जयें\n",
      "Step 4: Sampled char: ग, Decoded sentence so far: जयेंग\n",
      "Step 5: Sampled char: े, Decoded sentence so far: जयेंगे\n",
      "Step 6: Sampled char: $, Decoded sentence so far: जयेंगे$\n",
      "Decoded word: जयेंगे$\n",
      "Average latency for the input text: 0.1371 seconds\n",
      "Transliterated Hindi text: आज हम सब घुमने जयेंगे\n"
     ]
    }
   ],
   "source": [
    "text = 'Aaj Hum sab ghumne jayenge'\n",
    "print('English text:', text)\n",
    "print('Transliterated Hindi text:', predict_output(text))"
   ]
  },
  {
   "cell_type": "code",
   "execution_count": null,
   "id": "13d949ed",
   "metadata": {},
   "outputs": [],
   "source": []
  }
 ],
 "metadata": {
  "kernelspec": {
   "display_name": "Python 3 (ipykernel)",
   "language": "python",
   "name": "python3"
  },
  "language_info": {
   "codemirror_mode": {
    "name": "ipython",
    "version": 3
   },
   "file_extension": ".py",
   "mimetype": "text/x-python",
   "name": "python",
   "nbconvert_exporter": "python",
   "pygments_lexer": "ipython3",
   "version": "3.8.13"
  }
 },
 "nbformat": 4,
 "nbformat_minor": 5
}
