{
 "cells": [
  {
   "cell_type": "code",
   "execution_count": 1,
   "id": "3a8850f3",
   "metadata": {
    "scrolled": false
   },
   "outputs": [
    {
     "name": "stdout",
     "output_type": "stream",
     "text": [
      "Wed Jun  5 12:17:43 2024       \r\n",
      "+---------------------------------------------------------------------------------------+\r\n",
      "| NVIDIA-SMI 535.146.02             Driver Version: 535.146.02   CUDA Version: 12.2     |\r\n",
      "|-----------------------------------------+----------------------+----------------------+\r\n",
      "| GPU  Name                 Persistence-M | Bus-Id        Disp.A | Volatile Uncorr. ECC |\r\n",
      "| Fan  Temp   Perf          Pwr:Usage/Cap |         Memory-Usage | GPU-Util  Compute M. |\r\n",
      "|                                         |                      |               MIG M. |\r\n",
      "|=========================================+======================+======================|\r\n",
      "|   0  NVIDIA GeForce RTX 2080 ...    Off | 00000000:03:00.0 Off |                  N/A |\r\n",
      "| 27%   34C    P8               1W / 250W |   5891MiB /  8192MiB |      0%      Default |\r\n",
      "|                                         |                      |                  N/A |\r\n",
      "+-----------------------------------------+----------------------+----------------------+\r\n",
      "|   1  NVIDIA GeForce RTX 2080 ...    Off | 00000000:0E:00.0 Off |                  N/A |\r\n",
      "| 37%   48C    P2              51W / 250W |   6935MiB /  8192MiB |     34%      Default |\r\n",
      "|                                         |                      |                  N/A |\r\n",
      "+-----------------------------------------+----------------------+----------------------+\r\n",
      "|   2  NVIDIA GeForce RTX 2080 ...    Off | 00000000:0F:00.0 Off |                  N/A |\r\n",
      "| 27%   38C    P8              19W / 250W |    145MiB /  8192MiB |      0%      Default |\r\n",
      "|                                         |                      |                  N/A |\r\n",
      "+-----------------------------------------+----------------------+----------------------+\r\n",
      "                                                                                         \r\n",
      "+---------------------------------------------------------------------------------------+\r\n",
      "| Processes:                                                                            |\r\n",
      "|  GPU   GI   CI        PID   Type   Process name                            GPU Memory |\r\n",
      "|        ID   ID                                                             Usage      |\r\n",
      "|=======================================================================================|\r\n",
      "+---------------------------------------------------------------------------------------+\r\n"
     ]
    }
   ],
   "source": [
    "!nvidia-smi"
   ]
  },
  {
   "cell_type": "code",
   "execution_count": 24,
   "id": "38aebcf7",
   "metadata": {},
   "outputs": [],
   "source": [
    "# import os\n",
    "# from tensorflow.compat.v1 import ConfigProto\n",
    "# from tensorflow.compat.v1 import InteractiveSession"
   ]
  },
  {
   "cell_type": "code",
   "execution_count": 25,
   "id": "243503af",
   "metadata": {},
   "outputs": [],
   "source": [
    "# # Assign GPU number\n",
    "# os.environ[\"CUDA_VISIBLE_DEVICES\"]=\"1\""
   ]
  },
  {
   "cell_type": "code",
   "execution_count": 26,
   "id": "889bde6b",
   "metadata": {},
   "outputs": [
    {
     "name": "stderr",
     "output_type": "stream",
     "text": [
      "2024-06-05 09:51:11.499832: I tensorflow/stream_executor/cuda/cuda_gpu_executor.cc:937] successful NUMA node read from SysFS had negative value (-1), but there must be at least one NUMA node, so returning NUMA node zero\n",
      "2024-06-05 09:51:11.500266: I tensorflow/core/common_runtime/gpu/gpu_device.cc:1733] Found device 0 with properties: \n",
      "pciBusID: 0000:03:00.0 name: NVIDIA GeForce RTX 2080 SUPER computeCapability: 7.5\n",
      "coreClock: 1.815GHz coreCount: 48 deviceMemorySize: 7.79GiB deviceMemoryBandwidth: 462.00GiB/s\n",
      "2024-06-05 09:51:11.500371: I tensorflow/stream_executor/cuda/cuda_gpu_executor.cc:937] successful NUMA node read from SysFS had negative value (-1), but there must be at least one NUMA node, so returning NUMA node zero\n",
      "2024-06-05 09:51:11.500725: I tensorflow/core/common_runtime/gpu/gpu_device.cc:1733] Found device 1 with properties: \n",
      "pciBusID: 0000:0e:00.0 name: NVIDIA GeForce RTX 2080 SUPER computeCapability: 7.5\n",
      "coreClock: 1.815GHz coreCount: 48 deviceMemorySize: 7.79GiB deviceMemoryBandwidth: 462.00GiB/s\n",
      "2024-06-05 09:51:11.500848: I tensorflow/stream_executor/cuda/cuda_gpu_executor.cc:937] successful NUMA node read from SysFS had negative value (-1), but there must be at least one NUMA node, so returning NUMA node zero\n",
      "2024-06-05 09:51:11.501253: I tensorflow/core/common_runtime/gpu/gpu_device.cc:1733] Found device 2 with properties: \n",
      "pciBusID: 0000:0f:00.0 name: NVIDIA GeForce RTX 2080 SUPER computeCapability: 7.5\n",
      "coreClock: 1.815GHz coreCount: 48 deviceMemorySize: 7.79GiB deviceMemoryBandwidth: 462.00GiB/s\n",
      "2024-06-05 09:51:11.501361: I tensorflow/stream_executor/cuda/cuda_gpu_executor.cc:937] successful NUMA node read from SysFS had negative value (-1), but there must be at least one NUMA node, so returning NUMA node zero\n",
      "2024-06-05 09:51:11.501785: I tensorflow/stream_executor/cuda/cuda_gpu_executor.cc:937] successful NUMA node read from SysFS had negative value (-1), but there must be at least one NUMA node, so returning NUMA node zero\n",
      "2024-06-05 09:51:11.502210: I tensorflow/stream_executor/cuda/cuda_gpu_executor.cc:937] successful NUMA node read from SysFS had negative value (-1), but there must be at least one NUMA node, so returning NUMA node zero\n",
      "2024-06-05 09:51:11.502633: I tensorflow/stream_executor/cuda/cuda_gpu_executor.cc:937] successful NUMA node read from SysFS had negative value (-1), but there must be at least one NUMA node, so returning NUMA node zero\n",
      "2024-06-05 09:51:11.503055: I tensorflow/stream_executor/cuda/cuda_gpu_executor.cc:937] successful NUMA node read from SysFS had negative value (-1), but there must be at least one NUMA node, so returning NUMA node zero\n",
      "2024-06-05 09:51:11.503476: I tensorflow/stream_executor/cuda/cuda_gpu_executor.cc:937] successful NUMA node read from SysFS had negative value (-1), but there must be at least one NUMA node, so returning NUMA node zero\n",
      "2024-06-05 09:51:11.503818: I tensorflow/core/common_runtime/gpu/gpu_device.cc:1871] Adding visible gpu devices: 0, 1, 2\n",
      "2024-06-05 09:51:11.503868: I tensorflow/core/common_runtime/gpu/gpu_device.cc:1258] Device interconnect StreamExecutor with strength 1 edge matrix:\n",
      "2024-06-05 09:51:11.503877: I tensorflow/core/common_runtime/gpu/gpu_device.cc:1264]      0 1 2 \n",
      "2024-06-05 09:51:11.503884: I tensorflow/core/common_runtime/gpu/gpu_device.cc:1277] 0:   N N N \n",
      "2024-06-05 09:51:11.503891: I tensorflow/core/common_runtime/gpu/gpu_device.cc:1277] 1:   N N N \n",
      "2024-06-05 09:51:11.503897: I tensorflow/core/common_runtime/gpu/gpu_device.cc:1277] 2:   N N N \n",
      "2024-06-05 09:51:11.504088: I tensorflow/stream_executor/cuda/cuda_gpu_executor.cc:937] successful NUMA node read from SysFS had negative value (-1), but there must be at least one NUMA node, so returning NUMA node zero\n",
      "2024-06-05 09:51:11.504534: I tensorflow/stream_executor/cuda/cuda_gpu_executor.cc:937] successful NUMA node read from SysFS had negative value (-1), but there must be at least one NUMA node, so returning NUMA node zero\n",
      "2024-06-05 09:51:11.504965: I tensorflow/stream_executor/cuda/cuda_gpu_executor.cc:937] successful NUMA node read from SysFS had negative value (-1), but there must be at least one NUMA node, so returning NUMA node zero\n",
      "2024-06-05 09:51:11.505427: I tensorflow/stream_executor/cuda/cuda_gpu_executor.cc:937] successful NUMA node read from SysFS had negative value (-1), but there must be at least one NUMA node, so returning NUMA node zero\n",
      "2024-06-05 09:51:11.505816: I tensorflow/core/common_runtime/gpu/gpu_device.cc:1418] Created TensorFlow device (/job:localhost/replica:0/task:0/device:GPU:0 with 70 MB memory) -> physical GPU (device: 0, name: NVIDIA GeForce RTX 2080 SUPER, pci bus id: 0000:03:00.0, compute capability: 7.5)\n",
      "2024-06-05 09:51:11.505936: I tensorflow/stream_executor/cuda/cuda_gpu_executor.cc:937] successful NUMA node read from SysFS had negative value (-1), but there must be at least one NUMA node, so returning NUMA node zero\n",
      "2024-06-05 09:51:11.506326: I tensorflow/core/common_runtime/gpu/gpu_device.cc:1418] Created TensorFlow device (/job:localhost/replica:0/task:0/device:GPU:1 with 6493 MB memory) -> physical GPU (device: 1, name: NVIDIA GeForce RTX 2080 SUPER, pci bus id: 0000:0e:00.0, compute capability: 7.5)\n",
      "2024-06-05 09:51:11.506442: I tensorflow/stream_executor/cuda/cuda_gpu_executor.cc:937] successful NUMA node read from SysFS had negative value (-1), but there must be at least one NUMA node, so returning NUMA node zero\n",
      "2024-06-05 09:51:11.506827: I tensorflow/core/common_runtime/gpu/gpu_device.cc:1418] Created TensorFlow device (/job:localhost/replica:0/task:0/device:GPU:2 with 6494 MB memory) -> physical GPU (device: 2, name: NVIDIA GeForce RTX 2080 SUPER, pci bus id: 0000:0f:00.0, compute capability: 7.5)\n"
     ]
    }
   ],
   "source": [
    "# config = ConfigProto()\n",
    "# config.gpu_options.allow_growth = True\n",
    "# session = InteractiveSession(config=config)"
   ]
  },
  {
   "cell_type": "code",
   "execution_count": 2,
   "id": "80b27d4b",
   "metadata": {},
   "outputs": [
    {
     "ename": "RuntimeError",
     "evalue": "module compiled against API version 0xe but this version of numpy is 0xd",
     "output_type": "error",
     "traceback": [
      "\u001b[0;31m---------------------------------------------------------------------------\u001b[0m",
      "\u001b[0;31mRuntimeError\u001b[0m                              Traceback (most recent call last)",
      "\u001b[0;31mRuntimeError\u001b[0m: module compiled against API version 0xe but this version of numpy is 0xd"
     ]
    },
    {
     "name": "stderr",
     "output_type": "stream",
     "text": [
      "2024-06-05 12:17:54.789647: I tensorflow/stream_executor/platform/default/dso_loader.cc:53] Successfully opened dynamic library libcudart.so.11.0\n"
     ]
    }
   ],
   "source": [
    "import pandas as pd\n",
    "import tensorflow as tf\n",
    "from sklearn.model_selection import train_test_split\n",
    "from tensorflow.keras.models import Model, load_model\n",
    "from tensorflow.keras.layers import Input, LSTM, Dense,Dropout\n",
    "import numpy as np"
   ]
  },
  {
   "cell_type": "code",
   "execution_count": 3,
   "id": "87b06753",
   "metadata": {},
   "outputs": [],
   "source": [
    "train = pd.read_csv('train.csv')"
   ]
  },
  {
   "cell_type": "code",
   "execution_count": 4,
   "id": "543087e5",
   "metadata": {},
   "outputs": [],
   "source": [
    "train['hindi'] = train['hindi'].astype(str)\n",
    "train['english'] = train['english'].astype(str)"
   ]
  },
  {
   "cell_type": "code",
   "execution_count": 5,
   "id": "c9cd640c",
   "metadata": {},
   "outputs": [],
   "source": [
    "train['hindi'] = train['hindi'].str.strip() \n",
    "train['english'] = train['english'].str.strip().str.lower()"
   ]
  },
  {
   "cell_type": "code",
   "execution_count": 6,
   "id": "644229d9",
   "metadata": {},
   "outputs": [],
   "source": [
    "train = train[~train['english'].str.contains('\\.')]\n",
    "train = train[~train['english'].str.contains(',')]"
   ]
  },
  {
   "cell_type": "code",
   "execution_count": 7,
   "id": "2fcdb328",
   "metadata": {},
   "outputs": [
    {
     "data": {
      "text/html": [
       "<div>\n",
       "<style scoped>\n",
       "    .dataframe tbody tr th:only-of-type {\n",
       "        vertical-align: middle;\n",
       "    }\n",
       "\n",
       "    .dataframe tbody tr th {\n",
       "        vertical-align: top;\n",
       "    }\n",
       "\n",
       "    .dataframe thead th {\n",
       "        text-align: right;\n",
       "    }\n",
       "</style>\n",
       "<table border=\"1\" class=\"dataframe\">\n",
       "  <thead>\n",
       "    <tr style=\"text-align: right;\">\n",
       "      <th></th>\n",
       "      <th>Unnamed: 0</th>\n",
       "      <th>hindi</th>\n",
       "      <th>english</th>\n",
       "    </tr>\n",
       "  </thead>\n",
       "  <tbody>\n",
       "    <tr>\n",
       "      <th>0</th>\n",
       "      <td>819069</td>\n",
       "      <td>अनाधिकृतपणे</td>\n",
       "      <td>anaadhikritapane</td>\n",
       "    </tr>\n",
       "    <tr>\n",
       "      <th>1</th>\n",
       "      <td>1160250</td>\n",
       "      <td>पॉडकास्टर</td>\n",
       "      <td>podcaster</td>\n",
       "    </tr>\n",
       "    <tr>\n",
       "      <th>2</th>\n",
       "      <td>810678</td>\n",
       "      <td>बेयंत</td>\n",
       "      <td>beyant</td>\n",
       "    </tr>\n",
       "    <tr>\n",
       "      <th>3</th>\n",
       "      <td>79522</td>\n",
       "      <td>बोझि</td>\n",
       "      <td>bojhee</td>\n",
       "    </tr>\n",
       "    <tr>\n",
       "      <th>4</th>\n",
       "      <td>1072591</td>\n",
       "      <td>बहानें</td>\n",
       "      <td>bahaanen</td>\n",
       "    </tr>\n",
       "  </tbody>\n",
       "</table>\n",
       "</div>"
      ],
      "text/plain": [
       "   Unnamed: 0        hindi           english\n",
       "0      819069  अनाधिकृतपणे  anaadhikritapane\n",
       "1     1160250    पॉडकास्टर         podcaster\n",
       "2      810678        बेयंत            beyant\n",
       "3       79522         बोझि            bojhee\n",
       "4     1072591       बहानें          bahaanen"
      ]
     },
     "execution_count": 7,
     "metadata": {},
     "output_type": "execute_result"
    }
   ],
   "source": [
    "train.head()"
   ]
  },
  {
   "cell_type": "code",
   "execution_count": 8,
   "id": "3c381cd0",
   "metadata": {},
   "outputs": [],
   "source": [
    "def isEnglish(s):\n",
    "  try:\n",
    "      s.encode(encoding='utf-8').decode('ascii')\n",
    "  except UnicodeDecodeError:\n",
    "      return False\n",
    "  else:\n",
    "      return True\n",
    "\n",
    "train = train[train['english'].apply(isEnglish)]"
   ]
  },
  {
   "cell_type": "code",
   "execution_count": 9,
   "id": "6866e217",
   "metadata": {},
   "outputs": [
    {
     "data": {
      "text/html": [
       "<div>\n",
       "<style scoped>\n",
       "    .dataframe tbody tr th:only-of-type {\n",
       "        vertical-align: middle;\n",
       "    }\n",
       "\n",
       "    .dataframe tbody tr th {\n",
       "        vertical-align: top;\n",
       "    }\n",
       "\n",
       "    .dataframe thead th {\n",
       "        text-align: right;\n",
       "    }\n",
       "</style>\n",
       "<table border=\"1\" class=\"dataframe\">\n",
       "  <thead>\n",
       "    <tr style=\"text-align: right;\">\n",
       "      <th></th>\n",
       "      <th>Unnamed: 0</th>\n",
       "      <th>hindi</th>\n",
       "      <th>english</th>\n",
       "    </tr>\n",
       "  </thead>\n",
       "  <tbody>\n",
       "    <tr>\n",
       "      <th>0</th>\n",
       "      <td>819069</td>\n",
       "      <td>अनाधिकृतपणे</td>\n",
       "      <td>^anaadhikritapane$</td>\n",
       "    </tr>\n",
       "    <tr>\n",
       "      <th>1</th>\n",
       "      <td>1160250</td>\n",
       "      <td>पॉडकास्टर</td>\n",
       "      <td>^podcaster$</td>\n",
       "    </tr>\n",
       "    <tr>\n",
       "      <th>2</th>\n",
       "      <td>810678</td>\n",
       "      <td>बेयंत</td>\n",
       "      <td>^beyant$</td>\n",
       "    </tr>\n",
       "    <tr>\n",
       "      <th>3</th>\n",
       "      <td>79522</td>\n",
       "      <td>बोझि</td>\n",
       "      <td>^bojhee$</td>\n",
       "    </tr>\n",
       "    <tr>\n",
       "      <th>4</th>\n",
       "      <td>1072591</td>\n",
       "      <td>बहानें</td>\n",
       "      <td>^bahaanen$</td>\n",
       "    </tr>\n",
       "  </tbody>\n",
       "</table>\n",
       "</div>"
      ],
      "text/plain": [
       "   Unnamed: 0        hindi             english\n",
       "0      819069  अनाधिकृतपणे  ^anaadhikritapane$\n",
       "1     1160250    पॉडकास्टर         ^podcaster$\n",
       "2      810678        बेयंत            ^beyant$\n",
       "3       79522         बोझि            ^bojhee$\n",
       "4     1072591       बहानें          ^bahaanen$"
      ]
     },
     "execution_count": 9,
     "metadata": {},
     "output_type": "execute_result"
    }
   ],
   "source": [
    "sos = '^'\n",
    "eos = '$'\n",
    "\n",
    "train['english'] = sos + train['english'].astype(str) + eos\n",
    "train.head()"
   ]
  },
  {
   "cell_type": "code",
   "execution_count": 10,
   "id": "1479ab5e",
   "metadata": {},
   "outputs": [],
   "source": [
    "hindi_text = train['hindi']\n",
    "english_text = train['english']"
   ]
  },
  {
   "cell_type": "code",
   "execution_count": 11,
   "id": "9b5eb5c5",
   "metadata": {},
   "outputs": [
    {
     "name": "stdout",
     "output_type": "stream",
     "text": [
      "hindi text shape : (100000,)\n",
      "अनाधिकृतपणे\n",
      "english text shape : (100000,)\n",
      "^anaadhikritapane$\n"
     ]
    }
   ],
   "source": [
    "print('hindi text shape :',hindi_text.shape)\n",
    "print(hindi_text[0])\n",
    "print('english text shape :',english_text.shape)\n",
    "print(english_text[0])"
   ]
  },
  {
   "cell_type": "code",
   "execution_count": 12,
   "id": "27212306",
   "metadata": {},
   "outputs": [],
   "source": [
    "train_hindi_text, val_hindi_text, train_english_text, val_english_text = train_test_split(hindi_text, english_text, test_size=0.2, random_state=42)"
   ]
  },
  {
   "cell_type": "code",
   "execution_count": 13,
   "id": "71636a6c",
   "metadata": {},
   "outputs": [
    {
     "name": "stdout",
     "output_type": "stream",
     "text": [
      "26\n",
      "29\n"
     ]
    }
   ],
   "source": [
    "max_input_len = max([len(text) for text in hindi_text])\n",
    "print(max_input_len)\n",
    "max_target_len = max([len(text) for text in english_text])\n",
    "print(max_target_len)"
   ]
  },
  {
   "cell_type": "code",
   "execution_count": 14,
   "id": "7f992d44",
   "metadata": {},
   "outputs": [
    {
     "name": "stdout",
     "output_type": "stream",
     "text": [
      "['ँ', 'ं', 'ः', 'अ', 'आ', 'इ', 'ई', 'उ', 'ऊ', 'ऋ', 'ए', 'ऐ', 'ऑ', 'ओ', 'औ', 'क', 'ख', 'ग', 'घ', 'ङ', 'च', 'छ', 'ज', 'झ', 'ञ', 'ट', 'ठ', 'ड', 'ढ', 'ण', 'त', 'थ', 'द', 'ध', 'न', 'प', 'फ', 'ब', 'भ', 'म', 'य', 'र', 'ल', 'ळ', 'व', 'श', 'ष', 'स', 'ह', '़', 'ऽ', 'ा', 'ि', 'ी', 'ु', 'ू', 'ृ', 'ॅ', 'े', 'ै', 'ॉ', 'ॊ', 'ो', 'ौ', '्']\n",
      "['$', '^', 'a', 'b', 'c', 'd', 'e', 'f', 'g', 'h', 'i', 'j', 'k', 'l', 'm', 'n', 'o', 'p', 'q', 'r', 's', 't', 'u', 'v', 'w', 'x', 'y', 'z']\n"
     ]
    }
   ],
   "source": [
    "input_chars = sorted(list(set(''.join(hindi_text))))\n",
    "print(input_chars)\n",
    "target_chars = sorted(list(set(''.join(english_text))))\n",
    "print(target_chars)"
   ]
  },
  {
   "cell_type": "code",
   "execution_count": 15,
   "id": "4ce818eb",
   "metadata": {},
   "outputs": [
    {
     "name": "stdout",
     "output_type": "stream",
     "text": [
      "65\n",
      "28\n"
     ]
    }
   ],
   "source": [
    "num_encoder_tokens = len(input_chars)\n",
    "print(num_encoder_tokens)\n",
    "num_decoder_tokens = len(target_chars)\n",
    "print(num_decoder_tokens)"
   ]
  },
  {
   "cell_type": "code",
   "execution_count": 16,
   "id": "32390719",
   "metadata": {},
   "outputs": [
    {
     "name": "stdout",
     "output_type": "stream",
     "text": [
      "{'ँ': 0, 'ं': 1, 'ः': 2, 'अ': 3, 'आ': 4, 'इ': 5, 'ई': 6, 'उ': 7, 'ऊ': 8, 'ऋ': 9, 'ए': 10, 'ऐ': 11, 'ऑ': 12, 'ओ': 13, 'औ': 14, 'क': 15, 'ख': 16, 'ग': 17, 'घ': 18, 'ङ': 19, 'च': 20, 'छ': 21, 'ज': 22, 'झ': 23, 'ञ': 24, 'ट': 25, 'ठ': 26, 'ड': 27, 'ढ': 28, 'ण': 29, 'त': 30, 'थ': 31, 'द': 32, 'ध': 33, 'न': 34, 'प': 35, 'फ': 36, 'ब': 37, 'भ': 38, 'म': 39, 'य': 40, 'र': 41, 'ल': 42, 'ळ': 43, 'व': 44, 'श': 45, 'ष': 46, 'स': 47, 'ह': 48, '़': 49, 'ऽ': 50, 'ा': 51, 'ि': 52, 'ी': 53, 'ु': 54, 'ू': 55, 'ृ': 56, 'ॅ': 57, 'े': 58, 'ै': 59, 'ॉ': 60, 'ॊ': 61, 'ो': 62, 'ौ': 63, '्': 64}\n",
      "{'$': 0, '^': 1, 'a': 2, 'b': 3, 'c': 4, 'd': 5, 'e': 6, 'f': 7, 'g': 8, 'h': 9, 'i': 10, 'j': 11, 'k': 12, 'l': 13, 'm': 14, 'n': 15, 'o': 16, 'p': 17, 'q': 18, 'r': 19, 's': 20, 't': 21, 'u': 22, 'v': 23, 'w': 24, 'x': 25, 'y': 26, 'z': 27}\n"
     ]
    }
   ],
   "source": [
    "input_char_index = dict((char, i) for i, char in enumerate(input_chars))\n",
    "print(input_char_index)\n",
    "target_char_index = dict((char, i) for i, char in enumerate(target_chars))\n",
    "print(target_char_index)"
   ]
  },
  {
   "cell_type": "code",
   "execution_count": 17,
   "id": "ff352e09",
   "metadata": {},
   "outputs": [],
   "source": [
    "encoder_input_data = np.zeros((len(train_hindi_text), max_input_len, num_encoder_tokens), dtype='float32')\n",
    "decoder_input_data = np.zeros((len(train_english_text), max_target_len, num_decoder_tokens), dtype='float32')\n",
    "decoder_target_data = np.zeros((len(train_english_text), max_target_len, num_decoder_tokens), dtype='float32')"
   ]
  },
  {
   "cell_type": "code",
   "execution_count": 18,
   "id": "8492ab9d",
   "metadata": {},
   "outputs": [],
   "source": [
    "for i, (input_text, target_text) in enumerate(zip(train_hindi_text, train_english_text)):\n",
    "    for t, char in enumerate(input_text):\n",
    "        encoder_input_data[i, t, input_char_index[char]] = 1\n",
    "    for t, char in enumerate(target_text):\n",
    "        decoder_input_data[i, t, target_char_index[char]] = 1\n",
    "        if t > 0:\n",
    "            decoder_target_data[i, t - 1, target_char_index[char]] = 1"
   ]
  },
  {
   "cell_type": "code",
   "execution_count": 19,
   "id": "c5bd6e8a",
   "metadata": {},
   "outputs": [],
   "source": [
    "def custom_accuracy(y_true, y_pred):\n",
    "    y_true_argmax = tf.argmax(y_true, axis=-1)\n",
    "    y_pred_argmax = tf.argmax(y_pred, axis=-1)\n",
    "    mask = tf.cast(tf.not_equal(y_true_argmax, 0), dtype=tf.float32)\n",
    "    matches = tf.cast(tf.equal(y_true_argmax, y_pred_argmax), dtype=tf.float32)\n",
    "    masked_matches = matches * mask\n",
    "    accuracy = tf.reduce_sum(masked_matches) / tf.reduce_sum(mask)\n",
    "    return accuracy\n",
    "\n",
    "def custom_loss(y_true, y_pred):\n",
    "    mask = tf.cast(tf.not_equal(tf.reduce_sum(y_true, axis=-1), 0), dtype=tf.float32)\n",
    "    loss = tf.keras.losses.categorical_crossentropy(y_true, y_pred)\n",
    "    masked_loss = loss * mask\n",
    "    return tf.reduce_sum(masked_loss) / tf.reduce_sum(mask)\n"
   ]
  },
  {
   "cell_type": "code",
   "execution_count": 49,
   "id": "801c72f9",
   "metadata": {},
   "outputs": [
    {
     "name": "stdout",
     "output_type": "stream",
     "text": [
      "WARNING:tensorflow:Layer lstm will not use cuDNN kernels since it doesn't meet the criteria. It will use a generic GPU kernel as fallback when running on GPU.\n",
      "WARNING:tensorflow:Layer lstm_1 will not use cuDNN kernels since it doesn't meet the criteria. It will use a generic GPU kernel as fallback when running on GPU.\n"
     ]
    }
   ],
   "source": [
    "# model.save('my_custom_model.h5')\n",
    "model = load_model('my_custom_model.h5', custom_objects={'custom_loss': custom_loss, 'custom_accuracy':custom_accuracy})\n"
   ]
  },
  {
   "cell_type": "code",
   "execution_count": 54,
   "id": "484f09dd",
   "metadata": {
    "scrolled": true
   },
   "outputs": [
    {
     "name": "stdout",
     "output_type": "stream",
     "text": [
      "WARNING:tensorflow:Layer lstm_4 will not use cuDNN kernels since it doesn't meet the criteria. It will use a generic GPU kernel as fallback when running on GPU.\n",
      "WARNING:tensorflow:Layer lstm_5 will not use cuDNN kernels since it doesn't meet the criteria. It will use a generic GPU kernel as fallback when running on GPU.\n"
     ]
    }
   ],
   "source": [
    "encoder_inputs = Input(shape=(None, num_encoder_tokens))\n",
    "encoder = LSTM(256, return_state=True, dropout=0.3, recurrent_dropout=0.3)\n",
    "encoder_outputs, state_h, state_c = encoder(encoder_inputs)\n",
    "encoder_states = [state_h, state_c]\n",
    "\n",
    "decoder_inputs = Input(shape=(None, num_decoder_tokens))\n",
    "decoder_lstm = LSTM(256, return_sequences=True, return_state=True, dropout=0.3, recurrent_dropout=0.3)\n",
    "decoder_outputs, _, _ = decoder_lstm(decoder_inputs, initial_state=encoder_states)\n",
    "decoder_dense = Dense(num_decoder_tokens, activation='softmax')\n",
    "decoder_outputs = decoder_dense(decoder_outputs)\n",
    "\n",
    "model = Model([encoder_inputs, decoder_inputs], decoder_outputs)\n",
    "\n",
    "model.compile(optimizer=tf.keras.optimizers.Adam(learning_rate=0.001), \n",
    "              loss=custom_loss,\n",
    "              metrics=[custom_accuracy])"
   ]
  },
  {
   "cell_type": "code",
   "execution_count": 55,
   "id": "c3852b98",
   "metadata": {},
   "outputs": [
    {
     "name": "stdout",
     "output_type": "stream",
     "text": [
      "Model: \"model_4\"\n",
      "__________________________________________________________________________________________________\n",
      "Layer (type)                    Output Shape         Param #     Connected to                     \n",
      "==================================================================================================\n",
      "input_7 (InputLayer)            [(None, None, 65)]   0                                            \n",
      "__________________________________________________________________________________________________\n",
      "input_8 (InputLayer)            [(None, None, 28)]   0                                            \n",
      "__________________________________________________________________________________________________\n",
      "lstm_4 (LSTM)                   [(None, 256), (None, 329728      input_7[0][0]                    \n",
      "__________________________________________________________________________________________________\n",
      "lstm_5 (LSTM)                   [(None, None, 256),  291840      input_8[0][0]                    \n",
      "                                                                 lstm_4[0][1]                     \n",
      "                                                                 lstm_4[0][2]                     \n",
      "__________________________________________________________________________________________________\n",
      "dense_2 (Dense)                 (None, None, 28)     7196        lstm_5[0][0]                     \n",
      "==================================================================================================\n",
      "Total params: 628,764\n",
      "Trainable params: 628,764\n",
      "Non-trainable params: 0\n",
      "__________________________________________________________________________________________________\n"
     ]
    }
   ],
   "source": [
    "model.summary()"
   ]
  },
  {
   "cell_type": "code",
   "execution_count": 23,
   "id": "27350719",
   "metadata": {
    "scrolled": true
   },
   "outputs": [
    {
     "name": "stdout",
     "output_type": "stream",
     "text": [
      "Epoch 1/50\n",
      "1000/1000 [==============================] - 77s 77ms/step - loss: 2.1410 - custom_accuracy: 0.3180 - val_loss: 1.6170 - val_custom_accuracy: 0.4722\n",
      "Epoch 2/50\n",
      "1000/1000 [==============================] - 78s 78ms/step - loss: 1.6201 - custom_accuracy: 0.4752 - val_loss: 1.0778 - val_custom_accuracy: 0.6659\n",
      "Epoch 3/50\n",
      "1000/1000 [==============================] - 80s 80ms/step - loss: 1.2575 - custom_accuracy: 0.5844 - val_loss: 0.8116 - val_custom_accuracy: 0.7439\n",
      "Epoch 4/50\n",
      "1000/1000 [==============================] - 80s 80ms/step - loss: 1.0623 - custom_accuracy: 0.6476 - val_loss: 0.6860 - val_custom_accuracy: 0.7766\n",
      "Epoch 5/50\n",
      "1000/1000 [==============================] - 79s 79ms/step - loss: 0.9391 - custom_accuracy: 0.6889 - val_loss: 0.5987 - val_custom_accuracy: 0.8080\n",
      "Epoch 6/50\n",
      "1000/1000 [==============================] - 77s 77ms/step - loss: 0.8493 - custom_accuracy: 0.7187 - val_loss: 0.5353 - val_custom_accuracy: 0.8310\n",
      "Epoch 7/50\n",
      "1000/1000 [==============================] - 78s 78ms/step - loss: 0.7819 - custom_accuracy: 0.7413 - val_loss: 0.5028 - val_custom_accuracy: 0.8355\n",
      "Epoch 8/50\n",
      "1000/1000 [==============================] - 78s 78ms/step - loss: 0.7323 - custom_accuracy: 0.7585 - val_loss: 0.4613 - val_custom_accuracy: 0.8479\n",
      "Epoch 9/50\n",
      "1000/1000 [==============================] - 77s 77ms/step - loss: 0.6917 - custom_accuracy: 0.7710 - val_loss: 0.4299 - val_custom_accuracy: 0.8607\n",
      "Epoch 10/50\n",
      "1000/1000 [==============================] - 80s 80ms/step - loss: 0.6577 - custom_accuracy: 0.7826 - val_loss: 0.4188 - val_custom_accuracy: 0.8619\n",
      "Epoch 11/50\n",
      "1000/1000 [==============================] - 79s 79ms/step - loss: 0.6286 - custom_accuracy: 0.7922 - val_loss: 0.4027 - val_custom_accuracy: 0.8674\n",
      "Epoch 12/50\n",
      "1000/1000 [==============================] - 78s 78ms/step - loss: 0.6042 - custom_accuracy: 0.8002 - val_loss: 0.3835 - val_custom_accuracy: 0.8754\n",
      "Epoch 13/50\n",
      "1000/1000 [==============================] - 76s 76ms/step - loss: 0.5845 - custom_accuracy: 0.8065 - val_loss: 0.3683 - val_custom_accuracy: 0.8798\n",
      "Epoch 14/50\n",
      "1000/1000 [==============================] - 77s 77ms/step - loss: 0.5650 - custom_accuracy: 0.8127 - val_loss: 0.3645 - val_custom_accuracy: 0.8820\n",
      "Epoch 15/50\n",
      "1000/1000 [==============================] - 79s 79ms/step - loss: 0.5485 - custom_accuracy: 0.8184 - val_loss: 0.3539 - val_custom_accuracy: 0.8833\n",
      "Epoch 16/50\n",
      "1000/1000 [==============================] - 78s 78ms/step - loss: 0.5354 - custom_accuracy: 0.8230 - val_loss: 0.3441 - val_custom_accuracy: 0.8884\n",
      "Epoch 17/50\n",
      "1000/1000 [==============================] - 79s 79ms/step - loss: 0.5232 - custom_accuracy: 0.8262 - val_loss: 0.3352 - val_custom_accuracy: 0.8911\n",
      "Epoch 18/50\n",
      "1000/1000 [==============================] - 77s 77ms/step - loss: 0.5123 - custom_accuracy: 0.8306 - val_loss: 0.3360 - val_custom_accuracy: 0.8918\n",
      "Epoch 19/50\n",
      "1000/1000 [==============================] - 79s 79ms/step - loss: 0.5015 - custom_accuracy: 0.8332 - val_loss: 0.3272 - val_custom_accuracy: 0.8941\n",
      "Epoch 20/50\n",
      "1000/1000 [==============================] - 77s 77ms/step - loss: 0.4901 - custom_accuracy: 0.8375 - val_loss: 0.3201 - val_custom_accuracy: 0.8969\n",
      "Epoch 21/50\n",
      "1000/1000 [==============================] - 80s 80ms/step - loss: 0.4818 - custom_accuracy: 0.8405 - val_loss: 0.3161 - val_custom_accuracy: 0.8981\n",
      "Epoch 22/50\n",
      "1000/1000 [==============================] - 78s 78ms/step - loss: 0.4740 - custom_accuracy: 0.8431 - val_loss: 0.3110 - val_custom_accuracy: 0.9000\n",
      "Epoch 23/50\n",
      "1000/1000 [==============================] - 78s 78ms/step - loss: 0.4671 - custom_accuracy: 0.8451 - val_loss: 0.3143 - val_custom_accuracy: 0.8994\n",
      "Epoch 24/50\n",
      "1000/1000 [==============================] - 78s 78ms/step - loss: 0.4607 - custom_accuracy: 0.8469 - val_loss: 0.3064 - val_custom_accuracy: 0.9011\n",
      "Epoch 25/50\n",
      "1000/1000 [==============================] - 80s 80ms/step - loss: 0.4526 - custom_accuracy: 0.8504 - val_loss: 0.3002 - val_custom_accuracy: 0.9023\n",
      "Epoch 26/50\n",
      "1000/1000 [==============================] - 79s 79ms/step - loss: 0.4487 - custom_accuracy: 0.8516 - val_loss: 0.3004 - val_custom_accuracy: 0.9043\n",
      "Epoch 27/50\n",
      "1000/1000 [==============================] - 77s 77ms/step - loss: 0.4366 - custom_accuracy: 0.8554 - val_loss: 0.2930 - val_custom_accuracy: 0.9065\n",
      "Epoch 29/50\n",
      "1000/1000 [==============================] - 80s 80ms/step - loss: 0.4306 - custom_accuracy: 0.8569 - val_loss: 0.2971 - val_custom_accuracy: 0.9054\n",
      "Epoch 30/50\n",
      "1000/1000 [==============================] - 79s 79ms/step - loss: 0.4275 - custom_accuracy: 0.8584 - val_loss: 0.2906 - val_custom_accuracy: 0.9074\n",
      "Epoch 31/50\n",
      "1000/1000 [==============================] - 78s 78ms/step - loss: 0.4233 - custom_accuracy: 0.8600 - val_loss: 0.2885 - val_custom_accuracy: 0.9087\n",
      "Epoch 32/50\n",
      "1000/1000 [==============================] - 77s 77ms/step - loss: 0.4197 - custom_accuracy: 0.8614 - val_loss: 0.2843 - val_custom_accuracy: 0.9097\n",
      "Epoch 33/50\n",
      "1000/1000 [==============================] - 79s 79ms/step - loss: 0.4157 - custom_accuracy: 0.8626 - val_loss: 0.2810 - val_custom_accuracy: 0.9106\n",
      "Epoch 34/50\n",
      "1000/1000 [==============================] - 79s 79ms/step - loss: 0.4136 - custom_accuracy: 0.8631 - val_loss: 0.2807 - val_custom_accuracy: 0.9101\n",
      "Epoch 35/50\n",
      "1000/1000 [==============================] - 79s 79ms/step - loss: 0.4068 - custom_accuracy: 0.8657 - val_loss: 0.2791 - val_custom_accuracy: 0.9105\n",
      "Epoch 36/50\n",
      "1000/1000 [==============================] - 78s 78ms/step - loss: 0.4055 - custom_accuracy: 0.8656 - val_loss: 0.2806 - val_custom_accuracy: 0.9093\n",
      "Epoch 37/50\n",
      "1000/1000 [==============================] - 76s 76ms/step - loss: 0.4014 - custom_accuracy: 0.8674 - val_loss: 0.2777 - val_custom_accuracy: 0.9112\n",
      "Epoch 38/50\n",
      "1000/1000 [==============================] - 78s 78ms/step - loss: 0.3983 - custom_accuracy: 0.8678 - val_loss: 0.2766 - val_custom_accuracy: 0.9113\n",
      "Epoch 39/50\n",
      "1000/1000 [==============================] - 77s 77ms/step - loss: 0.3944 - custom_accuracy: 0.8691 - val_loss: 0.2786 - val_custom_accuracy: 0.9114\n",
      "Epoch 40/50\n",
      "1000/1000 [==============================] - 78s 78ms/step - loss: 0.3927 - custom_accuracy: 0.8701 - val_loss: 0.2741 - val_custom_accuracy: 0.9130\n",
      "Epoch 41/50\n",
      "1000/1000 [==============================] - 79s 79ms/step - loss: 0.3908 - custom_accuracy: 0.8706 - val_loss: 0.2740 - val_custom_accuracy: 0.9129\n",
      "Epoch 42/50\n",
      "1000/1000 [==============================] - 78s 78ms/step - loss: 0.3859 - custom_accuracy: 0.8719 - val_loss: 0.2685 - val_custom_accuracy: 0.9146\n",
      "Epoch 43/50\n",
      "1000/1000 [==============================] - 77s 77ms/step - loss: 0.3853 - custom_accuracy: 0.8719 - val_loss: 0.2696 - val_custom_accuracy: 0.9144\n",
      "Epoch 44/50\n",
      "1000/1000 [==============================] - 78s 78ms/step - loss: 0.3811 - custom_accuracy: 0.8737 - val_loss: 0.2708 - val_custom_accuracy: 0.9148\n",
      "Epoch 45/50\n",
      "1000/1000 [==============================] - 77s 77ms/step - loss: 0.3787 - custom_accuracy: 0.8746 - val_loss: 0.2668 - val_custom_accuracy: 0.9153\n",
      "Epoch 46/50\n",
      "1000/1000 [==============================] - 79s 79ms/step - loss: 0.3783 - custom_accuracy: 0.8748 - val_loss: 0.2708 - val_custom_accuracy: 0.9148\n",
      "Epoch 47/50\n",
      "1000/1000 [==============================] - 78s 78ms/step - loss: 0.3741 - custom_accuracy: 0.8755 - val_loss: 0.2655 - val_custom_accuracy: 0.9160\n",
      "Epoch 48/50\n",
      "1000/1000 [==============================] - 77s 77ms/step - loss: 0.3718 - custom_accuracy: 0.8767 - val_loss: 0.2620 - val_custom_accuracy: 0.9170\n",
      "Epoch 49/50\n",
      "1000/1000 [==============================] - 78s 78ms/step - loss: 0.3697 - custom_accuracy: 0.8775 - val_loss: 0.2645 - val_custom_accuracy: 0.9162\n",
      "Epoch 50/50\n",
      "1000/1000 [==============================] - 78s 78ms/step - loss: 0.3706 - custom_accuracy: 0.8772 - val_loss: 0.2644 - val_custom_accuracy: 0.9166\n"
     ]
    }
   ],
   "source": [
    "# history = model.fit([encoder_input_data, decoder_input_data], decoder_target_data,\n",
    "#           batch_size=64,\n",
    "#           epochs=50,\n",
    "#           validation_split=0.2)"
   ]
  },
  {
   "cell_type": "code",
   "execution_count": 56,
   "id": "484b5a6e",
   "metadata": {},
   "outputs": [],
   "source": [
    "model.load_weights('my_custom_model.h5')"
   ]
  },
  {
   "cell_type": "code",
   "execution_count": 57,
   "id": "f279f79a",
   "metadata": {},
   "outputs": [],
   "source": [
    "val_encoder_input_data = np.zeros((len(val_hindi_text), max_input_len, num_encoder_tokens), dtype='float32')\n",
    "val_decoder_input_data = np.zeros((len(val_english_text), max_target_len, num_decoder_tokens), dtype='float32')\n",
    "val_decoder_target_data = np.zeros((len(val_english_text), max_target_len, num_decoder_tokens), dtype='float32')"
   ]
  },
  {
   "cell_type": "code",
   "execution_count": 58,
   "id": "e4b0baeb",
   "metadata": {},
   "outputs": [],
   "source": [
    "for i, (input_text, target_text) in enumerate(zip(val_hindi_text, val_english_text)):\n",
    "    for t, char in enumerate(input_text):\n",
    "        val_encoder_input_data[i, t, input_char_index[char]] = 1\n",
    "    for t, char in enumerate(target_text):\n",
    "        val_decoder_input_data[i, t, target_char_index[char]] = 1\n",
    "        if t > 0:\n",
    "            val_decoder_target_data[i, t - 1, target_char_index[char]] = 1"
   ]
  },
  {
   "cell_type": "code",
   "execution_count": 59,
   "id": "cab17ad7",
   "metadata": {},
   "outputs": [
    {
     "name": "stdout",
     "output_type": "stream",
     "text": [
      "625/625 [==============================] - 12s 19ms/step - loss: 0.2563 - custom_accuracy: 0.9180\n",
      "Val loss: 0.2563191056251526\n",
      "Val accuracy: 0.9179897308349609\n"
     ]
    }
   ],
   "source": [
    "scores = model.evaluate([val_encoder_input_data, val_decoder_input_data], val_decoder_target_data, verbose=1)\n",
    "print('Val loss:', scores[0])\n",
    "print('Val accuracy:', scores[1])"
   ]
  },
  {
   "cell_type": "code",
   "execution_count": 60,
   "id": "e887bdd2",
   "metadata": {},
   "outputs": [],
   "source": [
    "encoder_model = Model(encoder_inputs, encoder_states)\n",
    "\n",
    "decoder_state_input_h = Input(shape=(256,))\n",
    "decoder_state_input_c = Input(shape=(256,))\n",
    "decoder_states_inputs = [decoder_state_input_h, decoder_state_input_c]\n",
    "decoder_outputs, state_h, state_c = decoder_lstm(decoder_inputs, initial_state=decoder_states_inputs)\n",
    "decoder_states = [state_h, state_c]\n",
    "decoder_outputs = decoder_dense(decoder_outputs)\n",
    "decoder_model = Model([decoder_inputs] + decoder_states_inputs, [decoder_outputs] + decoder_states)"
   ]
  },
  {
   "cell_type": "code",
   "execution_count": 61,
   "id": "6548fbe9",
   "metadata": {},
   "outputs": [],
   "source": [
    "import time\n",
    "def decode_sequence(input_seq):\n",
    "    start_time = time.time()  # Start measuring time\n",
    "    states_value = encoder_model.predict(input_seq)\n",
    "    target_seq = np.zeros((1, 1, num_decoder_tokens))\n",
    "    target_seq[0, 0, target_char_index['^']] = 1.0\n",
    "    stop_condition = False\n",
    "    decoded_sentence = ''\n",
    "    while not stop_condition:\n",
    "        output_tokens, h, c = decoder_model.predict([target_seq] + states_value)\n",
    "        sampled_token_index = np.argmax(output_tokens[0, -1, :])\n",
    "        sampled_char = target_chars[sampled_token_index]\n",
    "        decoded_sentence += sampled_char\n",
    "        if (sampled_char == '$' or len(decoded_sentence) > max_target_len):\n",
    "            stop_condition = True\n",
    "        target_seq = np.zeros((1, 1, num_decoder_tokens))\n",
    "        target_seq[0, 0, sampled_token_index] = 1.0\n",
    "        states_value = [h, c]\n",
    "    end_time = time.time()\n",
    "    latency = end_time - start_time\n",
    "    print(f'Latency for sequence: {latency:.6f} seconds')  \n",
    "    return decoded_sentence, latency  "
   ]
  },
  {
   "cell_type": "code",
   "execution_count": 62,
   "id": "73222688",
   "metadata": {},
   "outputs": [],
   "source": [
    "def predict_output(input_text):\n",
    "    total_latency = 0\n",
    "    word_count = 0\n",
    "    result = \"\"\n",
    "    words = input_text.split(' ')\n",
    "    for word in words:\n",
    "        input_seq = np.zeros((1, max_input_len, num_encoder_tokens), dtype='float32')\n",
    "        for t, char in enumerate(word):\n",
    "            input_seq[0, t, input_char_index[char]] = 1\n",
    "        decoded_word, latency = decode_sequence(input_seq)\n",
    "        result += decoded_word.rstrip('$') + \" \"\n",
    "        total_latency += latency\n",
    "        word_count += 1\n",
    "    average_latency = total_latency / word_count if word_count > 0 else 0\n",
    "    print(f'Average latency: {average_latency:.6f} seconds')\n",
    "    return result.strip()"
   ]
  },
  {
   "cell_type": "code",
   "execution_count": 63,
   "id": "9fca5806",
   "metadata": {},
   "outputs": [
    {
     "name": "stdout",
     "output_type": "stream",
     "text": [
      "Hindi text: विधायक\n",
      "Latency for sequence: 0.517553 seconds\n",
      "Average latency: 0.517553 seconds\n",
      "Transliterated English text: vidhaayak\n"
     ]
    }
   ],
   "source": [
    "text = 'विधायक'\n",
    "print('Hindi text:',text)\n",
    "print('Transliterated English text:',predict_output(text))"
   ]
  },
  {
   "cell_type": "code",
   "execution_count": 64,
   "id": "6a768eb8",
   "metadata": {},
   "outputs": [
    {
     "name": "stdout",
     "output_type": "stream",
     "text": [
      "Hindi text: जन्मदिवस\n",
      "Latency for sequence: 0.343067 seconds\n",
      "Average latency: 0.343067 seconds\n",
      "Transliterated English text: janmadivas\n"
     ]
    }
   ],
   "source": [
    "text = 'जन्मदिवस'\n",
    "print('Hindi text:',text)\n",
    "print('Transliterated English text:',predict_output(text))"
   ]
  },
  {
   "cell_type": "code",
   "execution_count": 65,
   "id": "6bfe0a3c",
   "metadata": {},
   "outputs": [
    {
     "name": "stdout",
     "output_type": "stream",
     "text": [
      "Hindi text: अभिनव\n",
      "Latency for sequence: 0.268674 seconds\n",
      "Average latency: 0.268674 seconds\n",
      "Transliterated English text: abhinav\n"
     ]
    }
   ],
   "source": [
    "text = 'अभिनव'\n",
    "print('Hindi text:',text)\n",
    "print('Transliterated English text:',predict_output(text))"
   ]
  },
  {
   "cell_type": "code",
   "execution_count": 66,
   "id": "1c48127c",
   "metadata": {},
   "outputs": [
    {
     "name": "stdout",
     "output_type": "stream",
     "text": [
      "Hindi text: विद्यापीठ\n",
      "Latency for sequence: 0.314190 seconds\n",
      "Average latency: 0.314190 seconds\n",
      "Transliterated English text: vidyapith\n"
     ]
    }
   ],
   "source": [
    "text = 'विद्यापीठ'\n",
    "print('Hindi text:',text)\n",
    "print('Transliterated English text:',predict_output(text))"
   ]
  },
  {
   "cell_type": "code",
   "execution_count": 67,
   "id": "cb3b85c8",
   "metadata": {
    "scrolled": true
   },
   "outputs": [
    {
     "name": "stdout",
     "output_type": "stream",
     "text": [
      "Hindi text: संकोच\n",
      "Latency for sequence: 0.270655 seconds\n",
      "Average latency: 0.270655 seconds\n",
      "Transliterated English text: sankoch\n"
     ]
    }
   ],
   "source": [
    "text = 'संकोच'\n",
    "print('Hindi text:',text)\n",
    "print('Transliterated English text:',predict_output(text))"
   ]
  },
  {
   "cell_type": "code",
   "execution_count": 68,
   "id": "cbb4d7d4",
   "metadata": {
    "scrolled": true
   },
   "outputs": [
    {
     "name": "stdout",
     "output_type": "stream",
     "text": [
      "Hindi text: दुरपयोग\n",
      "Latency for sequence: 0.283895 seconds\n",
      "Average latency: 0.283895 seconds\n",
      "Transliterated English text: durpayog\n"
     ]
    }
   ],
   "source": [
    "text = 'दुरपयोग'\n",
    "print('Hindi text:',text)\n",
    "print('Transliterated English text:',predict_output(text))"
   ]
  },
  {
   "cell_type": "code",
   "execution_count": null,
   "id": "54fac79d",
   "metadata": {},
   "outputs": [],
   "source": [
    "    "
   ]
  },
  {
   "cell_type": "code",
   "execution_count": null,
   "id": "c1d023d5",
   "metadata": {},
   "outputs": [],
   "source": []
  }
 ],
 "metadata": {
  "kernelspec": {
   "display_name": "Python 3 (ipykernel)",
   "language": "python",
   "name": "python3"
  },
  "language_info": {
   "codemirror_mode": {
    "name": "ipython",
    "version": 3
   },
   "file_extension": ".py",
   "mimetype": "text/x-python",
   "name": "python",
   "nbconvert_exporter": "python",
   "pygments_lexer": "ipython3",
   "version": "3.8.13"
  }
 },
 "nbformat": 4,
 "nbformat_minor": 5
}
