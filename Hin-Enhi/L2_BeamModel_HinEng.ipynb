{
 "cells": [
  {
   "cell_type": "code",
   "execution_count": 1,
   "id": "608dee22",
   "metadata": {
    "scrolled": false
   },
   "outputs": [
    {
     "name": "stdout",
     "output_type": "stream",
     "text": [
      "Thu Jun  6 15:56:13 2024       \n",
      "+---------------------------------------------------------------------------------------+\n",
      "| NVIDIA-SMI 535.146.02             Driver Version: 535.146.02   CUDA Version: 12.2     |\n",
      "|-----------------------------------------+----------------------+----------------------+\n",
      "| GPU  Name                 Persistence-M | Bus-Id        Disp.A | Volatile Uncorr. ECC |\n",
      "| Fan  Temp   Perf          Pwr:Usage/Cap |         Memory-Usage | GPU-Util  Compute M. |\n",
      "|                                         |                      |               MIG M. |\n",
      "|=========================================+======================+======================|\n",
      "|   0  NVIDIA GeForce RTX 2080 ...    Off | 00000000:03:00.0 Off |                  N/A |\n",
      "| 27%   33C    P8               1W / 250W |      1MiB /  8192MiB |      0%      Default |\n",
      "|                                         |                      |                  N/A |\n",
      "+-----------------------------------------+----------------------+----------------------+\n",
      "|   1  NVIDIA GeForce RTX 2080 ...    Off | 00000000:0E:00.0 Off |                  N/A |\n",
      "| 27%   37C    P8               8W / 250W |      1MiB /  8192MiB |      0%      Default |\n",
      "|                                         |                      |                  N/A |\n",
      "+-----------------------------------------+----------------------+----------------------+\n",
      "|   2  NVIDIA GeForce RTX 2080 ...    Off | 00000000:0F:00.0 Off |                  N/A |\n",
      "| 27%   36C    P8              19W / 250W |      1MiB /  8192MiB |      0%      Default |\n",
      "|                                         |                      |                  N/A |\n",
      "+-----------------------------------------+----------------------+----------------------+\n",
      "                                                                                         \n",
      "+---------------------------------------------------------------------------------------+\n",
      "| Processes:                                                                            |\n",
      "|  GPU   GI   CI        PID   Type   Process name                            GPU Memory |\n",
      "|        ID   ID                                                             Usage      |\n",
      "|=======================================================================================|\n",
      "|  No running processes found                                                           |\n",
      "+---------------------------------------------------------------------------------------+\n"
     ]
    }
   ],
   "source": [
    "!nvidia-smi"
   ]
  },
  {
   "cell_type": "code",
   "execution_count": 2,
   "id": "c3857337",
   "metadata": {},
   "outputs": [],
   "source": [
    "# import os\n",
    "# # Assign GPU number\n",
    "# os.environ[\"CUDA_VISIBLE_DEVICES\"]=\"2\""
   ]
  },
  {
   "cell_type": "code",
   "execution_count": 3,
   "id": "80b27d4b",
   "metadata": {},
   "outputs": [
    {
     "ename": "RuntimeError",
     "evalue": "module compiled against API version 0xe but this version of numpy is 0xd",
     "output_type": "error",
     "traceback": [
      "\u001b[0;31m---------------------------------------------------------------------------\u001b[0m",
      "\u001b[0;31mRuntimeError\u001b[0m                              Traceback (most recent call last)",
      "\u001b[0;31mRuntimeError\u001b[0m: module compiled against API version 0xe but this version of numpy is 0xd"
     ]
    },
    {
     "name": "stderr",
     "output_type": "stream",
     "text": [
      "2024-06-06 15:56:14.270607: I tensorflow/stream_executor/platform/default/dso_loader.cc:53] Successfully opened dynamic library libcudart.so.11.0\n"
     ]
    }
   ],
   "source": [
    "import pandas as pd\n",
    "import tensorflow as tf\n",
    "from sklearn.model_selection import train_test_split\n",
    "from tensorflow.keras.models import Model, load_model\n",
    "from tensorflow.keras.layers import Input, LSTM, Dense,Dropout\n",
    "import numpy as np"
   ]
  },
  {
   "cell_type": "code",
   "execution_count": 4,
   "id": "87b06753",
   "metadata": {},
   "outputs": [],
   "source": [
    "train = pd.read_csv('train.csv')"
   ]
  },
  {
   "cell_type": "code",
   "execution_count": 5,
   "id": "543087e5",
   "metadata": {},
   "outputs": [],
   "source": [
    "train['hindi'] = train['hindi'].astype(str)\n",
    "train['english'] = train['english'].astype(str)"
   ]
  },
  {
   "cell_type": "code",
   "execution_count": 6,
   "id": "c9cd640c",
   "metadata": {},
   "outputs": [],
   "source": [
    "train['hindi'] = train['hindi'].str.strip() \n",
    "train['english'] = train['english'].str.strip().str.lower()"
   ]
  },
  {
   "cell_type": "code",
   "execution_count": 7,
   "id": "644229d9",
   "metadata": {},
   "outputs": [],
   "source": [
    "train = train[~train['english'].str.contains('\\.')]\n",
    "train = train[~train['english'].str.contains(',')]"
   ]
  },
  {
   "cell_type": "code",
   "execution_count": 8,
   "id": "2fcdb328",
   "metadata": {},
   "outputs": [
    {
     "data": {
      "text/html": [
       "<div>\n",
       "<style scoped>\n",
       "    .dataframe tbody tr th:only-of-type {\n",
       "        vertical-align: middle;\n",
       "    }\n",
       "\n",
       "    .dataframe tbody tr th {\n",
       "        vertical-align: top;\n",
       "    }\n",
       "\n",
       "    .dataframe thead th {\n",
       "        text-align: right;\n",
       "    }\n",
       "</style>\n",
       "<table border=\"1\" class=\"dataframe\">\n",
       "  <thead>\n",
       "    <tr style=\"text-align: right;\">\n",
       "      <th></th>\n",
       "      <th>Unnamed: 0</th>\n",
       "      <th>hindi</th>\n",
       "      <th>english</th>\n",
       "    </tr>\n",
       "  </thead>\n",
       "  <tbody>\n",
       "    <tr>\n",
       "      <th>0</th>\n",
       "      <td>819069</td>\n",
       "      <td>अनाधिकृतपणे</td>\n",
       "      <td>anaadhikritapane</td>\n",
       "    </tr>\n",
       "    <tr>\n",
       "      <th>1</th>\n",
       "      <td>1160250</td>\n",
       "      <td>पॉडकास्टर</td>\n",
       "      <td>podcaster</td>\n",
       "    </tr>\n",
       "    <tr>\n",
       "      <th>2</th>\n",
       "      <td>810678</td>\n",
       "      <td>बेयंत</td>\n",
       "      <td>beyant</td>\n",
       "    </tr>\n",
       "    <tr>\n",
       "      <th>3</th>\n",
       "      <td>79522</td>\n",
       "      <td>बोझि</td>\n",
       "      <td>bojhee</td>\n",
       "    </tr>\n",
       "    <tr>\n",
       "      <th>4</th>\n",
       "      <td>1072591</td>\n",
       "      <td>बहानें</td>\n",
       "      <td>bahaanen</td>\n",
       "    </tr>\n",
       "  </tbody>\n",
       "</table>\n",
       "</div>"
      ],
      "text/plain": [
       "   Unnamed: 0        hindi           english\n",
       "0      819069  अनाधिकृतपणे  anaadhikritapane\n",
       "1     1160250    पॉडकास्टर         podcaster\n",
       "2      810678        बेयंत            beyant\n",
       "3       79522         बोझि            bojhee\n",
       "4     1072591       बहानें          bahaanen"
      ]
     },
     "execution_count": 8,
     "metadata": {},
     "output_type": "execute_result"
    }
   ],
   "source": [
    "train.head()"
   ]
  },
  {
   "cell_type": "code",
   "execution_count": 9,
   "id": "3c381cd0",
   "metadata": {},
   "outputs": [],
   "source": [
    "def isEnglish(s):\n",
    "  try:\n",
    "      s.encode(encoding='utf-8').decode('ascii')\n",
    "  except UnicodeDecodeError:\n",
    "      return False\n",
    "  else:\n",
    "      return True\n",
    "\n",
    "train = train[train['english'].apply(isEnglish)]"
   ]
  },
  {
   "cell_type": "code",
   "execution_count": 10,
   "id": "6866e217",
   "metadata": {},
   "outputs": [
    {
     "data": {
      "text/html": [
       "<div>\n",
       "<style scoped>\n",
       "    .dataframe tbody tr th:only-of-type {\n",
       "        vertical-align: middle;\n",
       "    }\n",
       "\n",
       "    .dataframe tbody tr th {\n",
       "        vertical-align: top;\n",
       "    }\n",
       "\n",
       "    .dataframe thead th {\n",
       "        text-align: right;\n",
       "    }\n",
       "</style>\n",
       "<table border=\"1\" class=\"dataframe\">\n",
       "  <thead>\n",
       "    <tr style=\"text-align: right;\">\n",
       "      <th></th>\n",
       "      <th>Unnamed: 0</th>\n",
       "      <th>hindi</th>\n",
       "      <th>english</th>\n",
       "    </tr>\n",
       "  </thead>\n",
       "  <tbody>\n",
       "    <tr>\n",
       "      <th>0</th>\n",
       "      <td>819069</td>\n",
       "      <td>अनाधिकृतपणे</td>\n",
       "      <td>^anaadhikritapane$</td>\n",
       "    </tr>\n",
       "    <tr>\n",
       "      <th>1</th>\n",
       "      <td>1160250</td>\n",
       "      <td>पॉडकास्टर</td>\n",
       "      <td>^podcaster$</td>\n",
       "    </tr>\n",
       "    <tr>\n",
       "      <th>2</th>\n",
       "      <td>810678</td>\n",
       "      <td>बेयंत</td>\n",
       "      <td>^beyant$</td>\n",
       "    </tr>\n",
       "    <tr>\n",
       "      <th>3</th>\n",
       "      <td>79522</td>\n",
       "      <td>बोझि</td>\n",
       "      <td>^bojhee$</td>\n",
       "    </tr>\n",
       "    <tr>\n",
       "      <th>4</th>\n",
       "      <td>1072591</td>\n",
       "      <td>बहानें</td>\n",
       "      <td>^bahaanen$</td>\n",
       "    </tr>\n",
       "  </tbody>\n",
       "</table>\n",
       "</div>"
      ],
      "text/plain": [
       "   Unnamed: 0        hindi             english\n",
       "0      819069  अनाधिकृतपणे  ^anaadhikritapane$\n",
       "1     1160250    पॉडकास्टर         ^podcaster$\n",
       "2      810678        बेयंत            ^beyant$\n",
       "3       79522         बोझि            ^bojhee$\n",
       "4     1072591       बहानें          ^bahaanen$"
      ]
     },
     "execution_count": 10,
     "metadata": {},
     "output_type": "execute_result"
    }
   ],
   "source": [
    "sos = '^'\n",
    "eos = '$'\n",
    "\n",
    "train['english'] = sos + train['english'].astype(str) + eos\n",
    "train.head()"
   ]
  },
  {
   "cell_type": "code",
   "execution_count": 11,
   "id": "1479ab5e",
   "metadata": {},
   "outputs": [],
   "source": [
    "hindi_text = train['hindi']\n",
    "english_text = train['english']"
   ]
  },
  {
   "cell_type": "code",
   "execution_count": 12,
   "id": "9b5eb5c5",
   "metadata": {},
   "outputs": [
    {
     "name": "stdout",
     "output_type": "stream",
     "text": [
      "hindi text shape : (100000,)\n",
      "अनाधिकृतपणे\n",
      "english text shape : (100000,)\n",
      "^anaadhikritapane$\n"
     ]
    }
   ],
   "source": [
    "print('hindi text shape :',hindi_text.shape)\n",
    "print(hindi_text[0])\n",
    "print('english text shape :',english_text.shape)\n",
    "print(english_text[0])"
   ]
  },
  {
   "cell_type": "code",
   "execution_count": 13,
   "id": "27212306",
   "metadata": {},
   "outputs": [],
   "source": [
    "train_hindi_text, val_hindi_text, train_english_text, val_english_text = train_test_split(hindi_text, english_text, test_size=0.2, random_state=42)"
   ]
  },
  {
   "cell_type": "code",
   "execution_count": 14,
   "id": "71636a6c",
   "metadata": {},
   "outputs": [
    {
     "name": "stdout",
     "output_type": "stream",
     "text": [
      "26\n",
      "29\n"
     ]
    }
   ],
   "source": [
    "max_input_len = max([len(text) for text in hindi_text])\n",
    "print(max_input_len)\n",
    "max_target_len = max([len(text) for text in english_text])\n",
    "print(max_target_len)"
   ]
  },
  {
   "cell_type": "code",
   "execution_count": 15,
   "id": "7f992d44",
   "metadata": {},
   "outputs": [
    {
     "name": "stdout",
     "output_type": "stream",
     "text": [
      "['ँ', 'ं', 'ः', 'अ', 'आ', 'इ', 'ई', 'उ', 'ऊ', 'ऋ', 'ए', 'ऐ', 'ऑ', 'ओ', 'औ', 'क', 'ख', 'ग', 'घ', 'ङ', 'च', 'छ', 'ज', 'झ', 'ञ', 'ट', 'ठ', 'ड', 'ढ', 'ण', 'त', 'थ', 'द', 'ध', 'न', 'प', 'फ', 'ब', 'भ', 'म', 'य', 'र', 'ल', 'ळ', 'व', 'श', 'ष', 'स', 'ह', '़', 'ऽ', 'ा', 'ि', 'ी', 'ु', 'ू', 'ृ', 'ॅ', 'े', 'ै', 'ॉ', 'ॊ', 'ो', 'ौ', '्']\n",
      "['$', '^', 'a', 'b', 'c', 'd', 'e', 'f', 'g', 'h', 'i', 'j', 'k', 'l', 'm', 'n', 'o', 'p', 'q', 'r', 's', 't', 'u', 'v', 'w', 'x', 'y', 'z']\n"
     ]
    }
   ],
   "source": [
    "input_chars = sorted(list(set(''.join(hindi_text))))\n",
    "print(input_chars)\n",
    "target_chars = sorted(list(set(''.join(english_text))))\n",
    "print(target_chars)"
   ]
  },
  {
   "cell_type": "code",
   "execution_count": 16,
   "id": "4ce818eb",
   "metadata": {},
   "outputs": [
    {
     "name": "stdout",
     "output_type": "stream",
     "text": [
      "65\n",
      "65\n"
     ]
    }
   ],
   "source": [
    "num_encoder_tokens = len(input_chars)\n",
    "print(num_encoder_tokens)\n",
    "num_decoder_tokens = len(target_chars)\n",
    "print(num_encoder_tokens)"
   ]
  },
  {
   "cell_type": "code",
   "execution_count": 17,
   "id": "32390719",
   "metadata": {},
   "outputs": [
    {
     "name": "stdout",
     "output_type": "stream",
     "text": [
      "{'ँ': 0, 'ं': 1, 'ः': 2, 'अ': 3, 'आ': 4, 'इ': 5, 'ई': 6, 'उ': 7, 'ऊ': 8, 'ऋ': 9, 'ए': 10, 'ऐ': 11, 'ऑ': 12, 'ओ': 13, 'औ': 14, 'क': 15, 'ख': 16, 'ग': 17, 'घ': 18, 'ङ': 19, 'च': 20, 'छ': 21, 'ज': 22, 'झ': 23, 'ञ': 24, 'ट': 25, 'ठ': 26, 'ड': 27, 'ढ': 28, 'ण': 29, 'त': 30, 'थ': 31, 'द': 32, 'ध': 33, 'न': 34, 'प': 35, 'फ': 36, 'ब': 37, 'भ': 38, 'म': 39, 'य': 40, 'र': 41, 'ल': 42, 'ळ': 43, 'व': 44, 'श': 45, 'ष': 46, 'स': 47, 'ह': 48, '़': 49, 'ऽ': 50, 'ा': 51, 'ि': 52, 'ी': 53, 'ु': 54, 'ू': 55, 'ृ': 56, 'ॅ': 57, 'े': 58, 'ै': 59, 'ॉ': 60, 'ॊ': 61, 'ो': 62, 'ौ': 63, '्': 64}\n",
      "{'$': 0, '^': 1, 'a': 2, 'b': 3, 'c': 4, 'd': 5, 'e': 6, 'f': 7, 'g': 8, 'h': 9, 'i': 10, 'j': 11, 'k': 12, 'l': 13, 'm': 14, 'n': 15, 'o': 16, 'p': 17, 'q': 18, 'r': 19, 's': 20, 't': 21, 'u': 22, 'v': 23, 'w': 24, 'x': 25, 'y': 26, 'z': 27}\n"
     ]
    }
   ],
   "source": [
    "input_char_index = dict((char, i) for i, char in enumerate(input_chars))\n",
    "print(input_char_index)\n",
    "target_char_index = dict((char, i) for i, char in enumerate(target_chars))\n",
    "print(target_char_index)"
   ]
  },
  {
   "cell_type": "code",
   "execution_count": 18,
   "id": "ff352e09",
   "metadata": {},
   "outputs": [],
   "source": [
    "encoder_input_data = np.zeros((len(train_hindi_text), max_input_len, num_encoder_tokens), dtype='float32')\n",
    "decoder_input_data = np.zeros((len(train_english_text), max_target_len, num_decoder_tokens), dtype='float32')\n",
    "decoder_target_data = np.zeros((len(train_english_text), max_target_len, num_decoder_tokens), dtype='float32')"
   ]
  },
  {
   "cell_type": "code",
   "execution_count": 19,
   "id": "8492ab9d",
   "metadata": {},
   "outputs": [],
   "source": [
    "for i, (input_text, target_text) in enumerate(zip(train_hindi_text, train_english_text)):\n",
    "    for t, char in enumerate(input_text):\n",
    "        encoder_input_data[i, t, input_char_index[char]] = 1\n",
    "    for t, char in enumerate(target_text):\n",
    "        decoder_input_data[i, t, target_char_index[char]] = 1\n",
    "        if t > 0:\n",
    "            decoder_target_data[i, t - 1, target_char_index[char]] = 1"
   ]
  },
  {
   "cell_type": "code",
   "execution_count": 20,
   "id": "c5bd6e8a",
   "metadata": {},
   "outputs": [],
   "source": [
    "def custom_accuracy(y_true, y_pred):\n",
    "    y_true_argmax = tf.argmax(y_true, axis=-1)\n",
    "    y_pred_argmax = tf.argmax(y_pred, axis=-1)\n",
    "    mask = tf.cast(tf.not_equal(y_true_argmax, 0), dtype=tf.float32)\n",
    "    matches = tf.cast(tf.equal(y_true_argmax, y_pred_argmax), dtype=tf.float32)\n",
    "    masked_matches = matches * mask\n",
    "    accuracy = tf.reduce_sum(masked_matches) / tf.reduce_sum(mask)\n",
    "    return accuracy\n",
    "\n",
    "def custom_loss(y_true, y_pred):\n",
    "    mask = tf.cast(tf.not_equal(tf.reduce_sum(y_true, axis=-1), 0), dtype=tf.float32)\n",
    "    loss = tf.keras.losses.categorical_crossentropy(y_true, y_pred)\n",
    "    masked_loss = loss * mask\n",
    "    return tf.reduce_sum(masked_loss) / tf.reduce_sum(mask)\n"
   ]
  },
  {
   "cell_type": "code",
   "execution_count": 25,
   "id": "97911d9f",
   "metadata": {
    "scrolled": true
   },
   "outputs": [
    {
     "name": "stdout",
     "output_type": "stream",
     "text": [
      "WARNING:tensorflow:Layer lstm will not use cuDNN kernels since it doesn't meet the criteria. It will use a generic GPU kernel as fallback when running on GPU.\n",
      "WARNING:tensorflow:Layer lstm_1 will not use cuDNN kernels since it doesn't meet the criteria. It will use a generic GPU kernel as fallback when running on GPU.\n"
     ]
    }
   ],
   "source": [
    "# model.save('my_custom2222_model.h5')\n",
    "model = load_model('my_custom2222_model.h5', custom_objects={'custom_loss': custom_loss, 'custom_accuracy':custom_accuracy})\n"
   ]
  },
  {
   "cell_type": "code",
   "execution_count": 30,
   "id": "484f09dd",
   "metadata": {},
   "outputs": [
    {
     "name": "stdout",
     "output_type": "stream",
     "text": [
      "WARNING:tensorflow:Layer lstm_2 will not use cuDNN kernels since it doesn't meet the criteria. It will use a generic GPU kernel as fallback when running on GPU.\n",
      "WARNING:tensorflow:Layer lstm_3 will not use cuDNN kernels since it doesn't meet the criteria. It will use a generic GPU kernel as fallback when running on GPU.\n"
     ]
    }
   ],
   "source": [
    "encoder_inputs = Input(shape=(None, num_encoder_tokens))\n",
    "encoder = LSTM(256, return_state=True, dropout=0.3, recurrent_dropout=0.3)\n",
    "encoder_outputs, state_h, state_c = encoder(encoder_inputs)\n",
    "encoder_states = [state_h, state_c]\n",
    "\n",
    "decoder_inputs = Input(shape=(None, num_decoder_tokens))\n",
    "decoder_lstm = LSTM(256, return_sequences=True, return_state=True, dropout=0.3, recurrent_dropout=0.3)\n",
    "decoder_outputs, _, _ = decoder_lstm(decoder_inputs, initial_state=encoder_states)\n",
    "decoder_dense = Dense(num_decoder_tokens, activation='softmax')\n",
    "decoder_outputs = decoder_dense(decoder_outputs)\n",
    "\n",
    "model = Model([encoder_inputs, decoder_inputs], decoder_outputs)\n",
    "\n",
    "model.compile(optimizer=tf.keras.optimizers.Adam(learning_rate=0.001), \n",
    "              loss=custom_loss,\n",
    "              metrics=[custom_accuracy])"
   ]
  },
  {
   "cell_type": "code",
   "execution_count": 31,
   "id": "c3852b98",
   "metadata": {
    "scrolled": true
   },
   "outputs": [
    {
     "name": "stdout",
     "output_type": "stream",
     "text": [
      "Model: \"model_1\"\n",
      "__________________________________________________________________________________________________\n",
      "Layer (type)                    Output Shape         Param #     Connected to                     \n",
      "==================================================================================================\n",
      "input_3 (InputLayer)            [(None, None, 65)]   0                                            \n",
      "__________________________________________________________________________________________________\n",
      "input_4 (InputLayer)            [(None, None, 28)]   0                                            \n",
      "__________________________________________________________________________________________________\n",
      "lstm_2 (LSTM)                   [(None, 256), (None, 329728      input_3[0][0]                    \n",
      "__________________________________________________________________________________________________\n",
      "lstm_3 (LSTM)                   [(None, None, 256),  291840      input_4[0][0]                    \n",
      "                                                                 lstm_2[0][1]                     \n",
      "                                                                 lstm_2[0][2]                     \n",
      "__________________________________________________________________________________________________\n",
      "dense_1 (Dense)                 (None, None, 28)     7196        lstm_3[0][0]                     \n",
      "==================================================================================================\n",
      "Total params: 628,764\n",
      "Trainable params: 628,764\n",
      "Non-trainable params: 0\n",
      "__________________________________________________________________________________________________\n"
     ]
    }
   ],
   "source": [
    "model.summary()"
   ]
  },
  {
   "cell_type": "code",
   "execution_count": 32,
   "id": "1439450b",
   "metadata": {},
   "outputs": [],
   "source": [
    "model.load_weights('my_custom2222_model.h5')"
   ]
  },
  {
   "cell_type": "code",
   "execution_count": 33,
   "id": "27350719",
   "metadata": {
    "scrolled": true
   },
   "outputs": [],
   "source": [
    "# history = model.fit([encoder_input_data, decoder_input_data], decoder_target_data,\n",
    "#           batch_size=64,\n",
    "#           epochs=50,\n",
    "#           validation_split=0.2)"
   ]
  },
  {
   "cell_type": "code",
   "execution_count": 34,
   "id": "f279f79a",
   "metadata": {},
   "outputs": [],
   "source": [
    "val_encoder_input_data = np.zeros((len(val_hindi_text), max_input_len, num_encoder_tokens), dtype='float32')\n",
    "val_decoder_input_data = np.zeros((len(val_english_text), max_target_len, num_decoder_tokens), dtype='float32')\n",
    "val_decoder_target_data = np.zeros((len(val_english_text), max_target_len, num_decoder_tokens), dtype='float32')"
   ]
  },
  {
   "cell_type": "code",
   "execution_count": 35,
   "id": "e4b0baeb",
   "metadata": {},
   "outputs": [],
   "source": [
    "for i, (input_text, target_text) in enumerate(zip(val_hindi_text, val_english_text)):\n",
    "    for t, char in enumerate(input_text):\n",
    "        val_encoder_input_data[i, t, input_char_index[char]] = 1\n",
    "    for t, char in enumerate(target_text):\n",
    "        val_decoder_input_data[i, t, target_char_index[char]] = 1\n",
    "        if t > 0:\n",
    "            val_decoder_target_data[i, t - 1, target_char_index[char]] = 1"
   ]
  },
  {
   "cell_type": "code",
   "execution_count": 36,
   "id": "a5202b1d",
   "metadata": {},
   "outputs": [],
   "source": [
    "# print(val_encoder_input_data)"
   ]
  },
  {
   "cell_type": "code",
   "execution_count": 39,
   "id": "cab17ad7",
   "metadata": {
    "scrolled": true
   },
   "outputs": [
    {
     "name": "stdout",
     "output_type": "stream",
     "text": [
      "625/625 [==============================] - 12s 19ms/step - loss: 0.2605 - custom_accuracy: 0.9162\n",
      "Val loss: 0.2604626715183258\n",
      "Val accuracy: 0.9161514639854431\n"
     ]
    }
   ],
   "source": [
    "scores = model.evaluate([val_encoder_input_data, val_decoder_input_data], val_decoder_target_data, verbose=1)\n",
    "print('Val loss:', scores[0])\n",
    "print('Val accuracy:', scores[1])"
   ]
  },
  {
   "cell_type": "code",
   "execution_count": 40,
   "id": "e887bdd2",
   "metadata": {},
   "outputs": [],
   "source": [
    "encoder_model = Model(encoder_inputs, encoder_states)\n",
    "\n",
    "decoder_state_input_h = Input(shape=(256,))\n",
    "decoder_state_input_c = Input(shape=(256,))\n",
    "decoder_states_inputs = [decoder_state_input_h, decoder_state_input_c]\n",
    "decoder_outputs, state_h, state_c = decoder_lstm(decoder_inputs, initial_state=decoder_states_inputs)\n",
    "decoder_states = [state_h, state_c]\n",
    "decoder_outputs = decoder_dense(decoder_outputs)\n",
    "decoder_model = Model([decoder_inputs] + decoder_states_inputs, [decoder_outputs] + decoder_states)"
   ]
  },
  {
   "cell_type": "code",
   "execution_count": 41,
   "id": "6548fbe9",
   "metadata": {},
   "outputs": [],
   "source": [
    "import time\n",
    "def beam_search_decode(input_seq, beam_width=2):\n",
    "    start_time = time.time()  # Start measuring time\n",
    "    states_value = encoder_model.predict(input_seq)\n",
    "    \n",
    "    start_token_index = target_char_index['^']\n",
    "    end_token_index = target_char_index['$']\n",
    "    sequences = [[list(), 0.0, states_value]]  # list of [sequence, score, states]\n",
    "    \n",
    "    for _ in range(max_target_len):\n",
    "        all_candidates = []\n",
    "        for seq, score, states in sequences:\n",
    "            target_seq = np.zeros((1, 1, num_decoder_tokens))\n",
    "            if len(seq) > 0:\n",
    "                last_token_index = seq[-1]\n",
    "            else:\n",
    "                last_token_index = start_token_index\n",
    "            target_seq[0, 0, last_token_index] = 1.0\n",
    "            \n",
    "            output_tokens, h, c = decoder_model.predict([target_seq] + states)\n",
    "            states_value = [h, c]\n",
    "            \n",
    "            top_k_indices = np.argsort(output_tokens[0, -1, :])[-beam_width:]\n",
    "            for token_index in top_k_indices:\n",
    "                candidate = [seq + [token_index], score - np.log(output_tokens[0, -1, token_index]), states_value]\n",
    "                all_candidates.append(candidate)\n",
    "        \n",
    "        ordered = sorted(all_candidates, key=lambda tup: tup[1])\n",
    "        sequences = ordered[:beam_width]\n",
    "    \n",
    "    end_time = time.time()  \n",
    "    latency = end_time - start_time  \n",
    "    print(f'Latency for sequence: {latency:.4f} seconds')  \n",
    "    \n",
    "    # Convert all top sequences to decoded sentences and calculate their probabilities\n",
    "    decoded_sentences = []\n",
    "    for seq, score, _ in sequences:\n",
    "        decoded_sentence = ''.join([target_chars[idx] for idx in seq])\n",
    "        if decoded_sentence.endswith('$'):\n",
    "            decoded_sentence = decoded_sentence[:-1]\n",
    "        probability = np.exp(-score) # Convert negative log probability back to probability\n",
    "        \n",
    "        decoded_sentences.append((decoded_sentence, f'{probability:.4f}'))\n",
    "    \n",
    "    return decoded_sentences, latency \n"
   ]
  },
  {
   "cell_type": "code",
   "execution_count": 42,
   "id": "73222688",
   "metadata": {},
   "outputs": [],
   "source": [
    "def predict_output(input_text, beam_width=2):\n",
    "    total_latency = 0\n",
    "    word_count = 0\n",
    "    results = []\n",
    "    words = input_text.split(' ')\n",
    "    for word in words:\n",
    "        input_seq = np.zeros((1, max_input_len, num_encoder_tokens), dtype='float32')\n",
    "        for t, char in enumerate(word):\n",
    "            input_seq[0, t, input_char_index[char]] = 1\n",
    "        decoded_sentences, latency = beam_search_decode(input_seq, beam_width)\n",
    "        results.append(decoded_sentences)  # Collect all beam search results\n",
    "        total_latency += latency\n",
    "        word_count += 1\n",
    "    average_latency = total_latency / word_count if word_count > 0 else 0\n",
    "    print(f'Average latency: {average_latency:.4f} seconds')\n",
    "    return results\n"
   ]
  },
  {
   "cell_type": "code",
   "execution_count": 43,
   "id": "9fca5806",
   "metadata": {},
   "outputs": [
    {
     "name": "stdout",
     "output_type": "stream",
     "text": [
      "Hindi text: विधायक\n",
      "Latency for sequence: 1.6390 seconds\n",
      "Average latency: 1.6390 seconds\n",
      "Transliterated English text: [[('vidhaayak$$$$$$$$$$$$$$$$$$$', '0.3942'), ('vidhayak$$$$$$$$$$$$$$$$$$$$', '0.1551')]]\n"
     ]
    }
   ],
   "source": [
    "text = 'विधायक'\n",
    "print('Hindi text:',text)\n",
    "print('Transliterated English text:',predict_output(text))"
   ]
  },
  {
   "cell_type": "code",
   "execution_count": 44,
   "id": "6a768eb8",
   "metadata": {},
   "outputs": [
    {
     "name": "stdout",
     "output_type": "stream",
     "text": [
      "Hindi text: जन्मदिवस\n",
      "Latency for sequence: 1.3949 seconds\n",
      "Average latency: 1.3949 seconds\n",
      "Transliterated English text: [[('janmadivas$$$$$$$$$$$$$$$$$$', '0.3458'), ('janmdivas$$$$$$$$$$$$$$$$$$$', '0.0679')]]\n"
     ]
    }
   ],
   "source": [
    "text = 'जन्मदिवस'\n",
    "print('Hindi text:',text)\n",
    "print('Transliterated English text:',predict_output(text))"
   ]
  },
  {
   "cell_type": "code",
   "execution_count": 45,
   "id": "6bfe0a3c",
   "metadata": {},
   "outputs": [
    {
     "name": "stdout",
     "output_type": "stream",
     "text": [
      "Hindi text: नालायक\n",
      "Latency for sequence: 1.4408 seconds\n",
      "Average latency: 1.4408 seconds\n",
      "Transliterated English text: [[('nalayak$$$$$$$$$$$$$$$$$$$$$', '0.3997'), ('naalayak$$$$$$$$$$$$$$$$$$$$', '0.0554')]]\n"
     ]
    }
   ],
   "source": [
    "text = 'नालायक'\n",
    "print('Hindi text:',text)\n",
    "print('Transliterated English text:',predict_output(text))"
   ]
  },
  {
   "cell_type": "code",
   "execution_count": 46,
   "id": "1c48127c",
   "metadata": {},
   "outputs": [
    {
     "name": "stdout",
     "output_type": "stream",
     "text": [
      "Hindi text: विद्यापीठ\n",
      "Latency for sequence: 1.4117 seconds\n",
      "Average latency: 1.4117 seconds\n",
      "Transliterated English text: [[('vidyapith$$$$$$$$$$$$$$$$$$$', '0.3700'), ('vidyapeeth$$$$$$$$$$$$$$$$$$', '0.1949')]]\n"
     ]
    }
   ],
   "source": [
    "text = 'विद्यापीठ'\n",
    "print('Hindi text:',text)\n",
    "print('Transliterated English text:',predict_output(text))"
   ]
  },
  {
   "cell_type": "code",
   "execution_count": 47,
   "id": "cb3b85c8",
   "metadata": {},
   "outputs": [
    {
     "name": "stdout",
     "output_type": "stream",
     "text": [
      "Hindi text: संकोच\n",
      "Latency for sequence: 1.4139 seconds\n",
      "Average latency: 1.4139 seconds\n",
      "Transliterated English text: [[('sankoch$$$$$$$$$$$$$$$$$$$$$', '0.4761'), ('sancoch$$$$$$$$$$$$$$$$$$$$$', '0.0458')]]\n"
     ]
    }
   ],
   "source": [
    "text = 'संकोच'\n",
    "print('Hindi text:',text)\n",
    "print('Transliterated English text:',predict_output(text))"
   ]
  },
  {
   "cell_type": "code",
   "execution_count": 48,
   "id": "cbb4d7d4",
   "metadata": {},
   "outputs": [
    {
     "name": "stdout",
     "output_type": "stream",
     "text": [
      "Hindi text: हनुमानाष्टक\n",
      "Latency for sequence: 1.4429 seconds\n",
      "Average latency: 1.4429 seconds\n",
      "Transliterated English text: [[('hanumanashtak$$$$$$$$$$$$$$$', '0.3469'), ('hanumaanashtak$$$$$$$$$$$$$$', '0.0669')]]\n"
     ]
    }
   ],
   "source": [
    "text = 'हनुमानाष्टक'\n",
    "print('Hindi text:',text)\n",
    "print('Transliterated English text:',predict_output(text))"
   ]
  },
  {
   "cell_type": "code",
   "execution_count": null,
   "id": "54fac79d",
   "metadata": {},
   "outputs": [],
   "source": [
    "    "
   ]
  },
  {
   "cell_type": "code",
   "execution_count": null,
   "id": "648f25af",
   "metadata": {},
   "outputs": [],
   "source": []
  }
 ],
 "metadata": {
  "kernelspec": {
   "display_name": "Python 3 (ipykernel)",
   "language": "python",
   "name": "python3"
  },
  "language_info": {
   "codemirror_mode": {
    "name": "ipython",
    "version": 3
   },
   "file_extension": ".py",
   "mimetype": "text/x-python",
   "name": "python",
   "nbconvert_exporter": "python",
   "pygments_lexer": "ipython3",
   "version": "3.8.13"
  }
 },
 "nbformat": 4,
 "nbformat_minor": 5
}
